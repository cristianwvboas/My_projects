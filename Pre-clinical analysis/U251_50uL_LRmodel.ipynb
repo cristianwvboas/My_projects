{
 "cells": [
  {
   "cell_type": "markdown",
   "metadata": {},
   "source": [
    "<center><h1>Predict Growth Curve Model for Glioma cancer</h1></center>\n"
   ]
  },
  {
   "cell_type": "markdown",
   "metadata": {},
   "source": [
    "#### This Jupyter Notebook aims to predict when glioma cells will generate a tumor about 300 mm^3 in size after subcutaneous injection. For this particular case, 5 million U251 cells were injected (50 μL of PBS) on the left shoulder of NCI Athymic Ncr-nu/nu mice approximately two months old.\n",
    "\n",
    "#### The data was obtained from a tumor growth experiment dataset. All animal experiments were performed according to the Guidelines for Care and Use of Animals established by the Division of Comparative Medicine and the Animal Studies Committee at Washington University in St. Louis."
   ]
  },
  {
   "cell_type": "code",
   "execution_count": 1,
   "metadata": {},
   "outputs": [],
   "source": [
    "# The first step is to import all packages needed for your analysis\n",
    "import pandas as pd\n",
    "import numpy as np\n",
    "import matplotlib.pyplot as plt\n",
    "import plotly.express as px\n",
    "import plotly.graph_objects as go\n",
    "from sklearn.linear_model import LinearRegression\n",
    "from sklearn.metrics import mean_squared_error, r2_score\n",
    "from numpy import reshape"
   ]
  },
  {
   "cell_type": "code",
   "execution_count": 2,
   "metadata": {},
   "outputs": [
    {
     "name": "stdout",
     "output_type": "stream",
     "text": [
      "   days_after_injection  tumor_1  tumor_2  tumor_3  tumor_4  tumor_5\n",
      "0                    10    50.40    39.38    35.50    32.32    16.46\n",
      "1                    12    82.34    56.24    69.16    29.97    32.22\n",
      "2                    17   243.80   168.57   239.31   132.60   116.17\n",
      "3                    20   425.60   305.81   284.59   112.50   148.84\n",
      "4                    24   744.67   480.20   472.38   383.82   313.60\n",
      "5                    28  1211.48   555.13   609.75   529.83   334.61\n",
      "\n",
      "Index(['days_after_injection', 'tumor_1', 'tumor_2', 'tumor_3', 'tumor_4',\n",
      "       'tumor_5'],\n",
      "      dtype='object')\n"
     ]
    }
   ],
   "source": [
    "# The second step is to import the data saved in an excel spreadsheet\n",
    "df_U251 = pd.read_csv('/Users/cristianvillasboas/Desktop/U251_50uL.csv') # create a object for your dataframe. Next, use the function pd.read_csv to import the data from the excel spreadsheet (remember to add the path).\n",
    "\n",
    "# Print the first 5 rows of the DataFrame (df)\n",
    "print(df_U251)\n",
    "\n",
    "# Add a space between the data frame and the next command to check for column names\n",
    "print()\n",
    "\n",
    "# Print the column names\n",
    "print(df_U251.columns)"
   ]
  },
  {
   "cell_type": "code",
   "execution_count": 3,
   "metadata": {},
   "outputs": [
    {
     "data": {
      "application/vnd.plotly.v1+json": {
       "config": {
        "plotlyServerURL": "https://plot.ly"
       },
       "data": [
        {
         "hovertemplate": "Tumor=tumor_1<br>Days after injection=%{x}<br>Tumor Size (mm^3)=%{y}<extra></extra>",
         "legendgroup": "tumor_1",
         "marker": {
          "color": "#636efa",
          "symbol": "circle"
         },
         "mode": "markers+lines",
         "name": "tumor_1",
         "orientation": "v",
         "showlegend": true,
         "type": "scatter",
         "x": [
          10,
          12,
          17,
          20,
          24,
          28
         ],
         "xaxis": "x",
         "y": [
          50.4,
          82.34,
          243.8,
          425.6,
          744.67,
          1211.48
         ],
         "yaxis": "y"
        },
        {
         "hovertemplate": "Tumor=tumor_2<br>Days after injection=%{x}<br>Tumor Size (mm^3)=%{y}<extra></extra>",
         "legendgroup": "tumor_2",
         "marker": {
          "color": "#EF553B",
          "symbol": "circle"
         },
         "mode": "markers+lines",
         "name": "tumor_2",
         "orientation": "v",
         "showlegend": true,
         "type": "scatter",
         "x": [
          10,
          12,
          17,
          20,
          24,
          28
         ],
         "xaxis": "x",
         "y": [
          39.38,
          56.24,
          168.57,
          305.81,
          480.2,
          555.13
         ],
         "yaxis": "y"
        },
        {
         "hovertemplate": "Tumor=tumor_3<br>Days after injection=%{x}<br>Tumor Size (mm^3)=%{y}<extra></extra>",
         "legendgroup": "tumor_3",
         "marker": {
          "color": "#00cc96",
          "symbol": "circle"
         },
         "mode": "markers+lines",
         "name": "tumor_3",
         "orientation": "v",
         "showlegend": true,
         "type": "scatter",
         "x": [
          10,
          12,
          17,
          20,
          24,
          28
         ],
         "xaxis": "x",
         "y": [
          35.5,
          69.16,
          239.31,
          284.59,
          472.38,
          609.75
         ],
         "yaxis": "y"
        },
        {
         "hovertemplate": "Tumor=tumor_4<br>Days after injection=%{x}<br>Tumor Size (mm^3)=%{y}<extra></extra>",
         "legendgroup": "tumor_4",
         "marker": {
          "color": "#ab63fa",
          "symbol": "circle"
         },
         "mode": "markers+lines",
         "name": "tumor_4",
         "orientation": "v",
         "showlegend": true,
         "type": "scatter",
         "x": [
          10,
          12,
          17,
          20,
          24,
          28
         ],
         "xaxis": "x",
         "y": [
          32.32,
          29.97,
          132.6,
          112.5,
          383.82,
          529.83
         ],
         "yaxis": "y"
        },
        {
         "hovertemplate": "Tumor=tumor_5<br>Days after injection=%{x}<br>Tumor Size (mm^3)=%{y}<extra></extra>",
         "legendgroup": "tumor_5",
         "marker": {
          "color": "#FFA15A",
          "symbol": "circle"
         },
         "mode": "markers+lines",
         "name": "tumor_5",
         "orientation": "v",
         "showlegend": true,
         "type": "scatter",
         "x": [
          10,
          12,
          17,
          20,
          24,
          28
         ],
         "xaxis": "x",
         "y": [
          16.46,
          32.22,
          116.17,
          148.84,
          313.6,
          334.61
         ],
         "yaxis": "y"
        }
       ],
       "layout": {
        "legend": {
         "title": {
          "text": "Tumor"
         },
         "tracegroupgap": 0
        },
        "template": {
         "data": {
          "bar": [
           {
            "error_x": {
             "color": "#2a3f5f"
            },
            "error_y": {
             "color": "#2a3f5f"
            },
            "marker": {
             "line": {
              "color": "#E5ECF6",
              "width": 0.5
             },
             "pattern": {
              "fillmode": "overlay",
              "size": 10,
              "solidity": 0.2
             }
            },
            "type": "bar"
           }
          ],
          "barpolar": [
           {
            "marker": {
             "line": {
              "color": "#E5ECF6",
              "width": 0.5
             },
             "pattern": {
              "fillmode": "overlay",
              "size": 10,
              "solidity": 0.2
             }
            },
            "type": "barpolar"
           }
          ],
          "carpet": [
           {
            "aaxis": {
             "endlinecolor": "#2a3f5f",
             "gridcolor": "white",
             "linecolor": "white",
             "minorgridcolor": "white",
             "startlinecolor": "#2a3f5f"
            },
            "baxis": {
             "endlinecolor": "#2a3f5f",
             "gridcolor": "white",
             "linecolor": "white",
             "minorgridcolor": "white",
             "startlinecolor": "#2a3f5f"
            },
            "type": "carpet"
           }
          ],
          "choropleth": [
           {
            "colorbar": {
             "outlinewidth": 0,
             "ticks": ""
            },
            "type": "choropleth"
           }
          ],
          "contour": [
           {
            "colorbar": {
             "outlinewidth": 0,
             "ticks": ""
            },
            "colorscale": [
             [
              0,
              "#0d0887"
             ],
             [
              0.1111111111111111,
              "#46039f"
             ],
             [
              0.2222222222222222,
              "#7201a8"
             ],
             [
              0.3333333333333333,
              "#9c179e"
             ],
             [
              0.4444444444444444,
              "#bd3786"
             ],
             [
              0.5555555555555556,
              "#d8576b"
             ],
             [
              0.6666666666666666,
              "#ed7953"
             ],
             [
              0.7777777777777778,
              "#fb9f3a"
             ],
             [
              0.8888888888888888,
              "#fdca26"
             ],
             [
              1,
              "#f0f921"
             ]
            ],
            "type": "contour"
           }
          ],
          "contourcarpet": [
           {
            "colorbar": {
             "outlinewidth": 0,
             "ticks": ""
            },
            "type": "contourcarpet"
           }
          ],
          "heatmap": [
           {
            "colorbar": {
             "outlinewidth": 0,
             "ticks": ""
            },
            "colorscale": [
             [
              0,
              "#0d0887"
             ],
             [
              0.1111111111111111,
              "#46039f"
             ],
             [
              0.2222222222222222,
              "#7201a8"
             ],
             [
              0.3333333333333333,
              "#9c179e"
             ],
             [
              0.4444444444444444,
              "#bd3786"
             ],
             [
              0.5555555555555556,
              "#d8576b"
             ],
             [
              0.6666666666666666,
              "#ed7953"
             ],
             [
              0.7777777777777778,
              "#fb9f3a"
             ],
             [
              0.8888888888888888,
              "#fdca26"
             ],
             [
              1,
              "#f0f921"
             ]
            ],
            "type": "heatmap"
           }
          ],
          "heatmapgl": [
           {
            "colorbar": {
             "outlinewidth": 0,
             "ticks": ""
            },
            "colorscale": [
             [
              0,
              "#0d0887"
             ],
             [
              0.1111111111111111,
              "#46039f"
             ],
             [
              0.2222222222222222,
              "#7201a8"
             ],
             [
              0.3333333333333333,
              "#9c179e"
             ],
             [
              0.4444444444444444,
              "#bd3786"
             ],
             [
              0.5555555555555556,
              "#d8576b"
             ],
             [
              0.6666666666666666,
              "#ed7953"
             ],
             [
              0.7777777777777778,
              "#fb9f3a"
             ],
             [
              0.8888888888888888,
              "#fdca26"
             ],
             [
              1,
              "#f0f921"
             ]
            ],
            "type": "heatmapgl"
           }
          ],
          "histogram": [
           {
            "marker": {
             "pattern": {
              "fillmode": "overlay",
              "size": 10,
              "solidity": 0.2
             }
            },
            "type": "histogram"
           }
          ],
          "histogram2d": [
           {
            "colorbar": {
             "outlinewidth": 0,
             "ticks": ""
            },
            "colorscale": [
             [
              0,
              "#0d0887"
             ],
             [
              0.1111111111111111,
              "#46039f"
             ],
             [
              0.2222222222222222,
              "#7201a8"
             ],
             [
              0.3333333333333333,
              "#9c179e"
             ],
             [
              0.4444444444444444,
              "#bd3786"
             ],
             [
              0.5555555555555556,
              "#d8576b"
             ],
             [
              0.6666666666666666,
              "#ed7953"
             ],
             [
              0.7777777777777778,
              "#fb9f3a"
             ],
             [
              0.8888888888888888,
              "#fdca26"
             ],
             [
              1,
              "#f0f921"
             ]
            ],
            "type": "histogram2d"
           }
          ],
          "histogram2dcontour": [
           {
            "colorbar": {
             "outlinewidth": 0,
             "ticks": ""
            },
            "colorscale": [
             [
              0,
              "#0d0887"
             ],
             [
              0.1111111111111111,
              "#46039f"
             ],
             [
              0.2222222222222222,
              "#7201a8"
             ],
             [
              0.3333333333333333,
              "#9c179e"
             ],
             [
              0.4444444444444444,
              "#bd3786"
             ],
             [
              0.5555555555555556,
              "#d8576b"
             ],
             [
              0.6666666666666666,
              "#ed7953"
             ],
             [
              0.7777777777777778,
              "#fb9f3a"
             ],
             [
              0.8888888888888888,
              "#fdca26"
             ],
             [
              1,
              "#f0f921"
             ]
            ],
            "type": "histogram2dcontour"
           }
          ],
          "mesh3d": [
           {
            "colorbar": {
             "outlinewidth": 0,
             "ticks": ""
            },
            "type": "mesh3d"
           }
          ],
          "parcoords": [
           {
            "line": {
             "colorbar": {
              "outlinewidth": 0,
              "ticks": ""
             }
            },
            "type": "parcoords"
           }
          ],
          "pie": [
           {
            "automargin": true,
            "type": "pie"
           }
          ],
          "scatter": [
           {
            "fillpattern": {
             "fillmode": "overlay",
             "size": 10,
             "solidity": 0.2
            },
            "type": "scatter"
           }
          ],
          "scatter3d": [
           {
            "line": {
             "colorbar": {
              "outlinewidth": 0,
              "ticks": ""
             }
            },
            "marker": {
             "colorbar": {
              "outlinewidth": 0,
              "ticks": ""
             }
            },
            "type": "scatter3d"
           }
          ],
          "scattercarpet": [
           {
            "marker": {
             "colorbar": {
              "outlinewidth": 0,
              "ticks": ""
             }
            },
            "type": "scattercarpet"
           }
          ],
          "scattergeo": [
           {
            "marker": {
             "colorbar": {
              "outlinewidth": 0,
              "ticks": ""
             }
            },
            "type": "scattergeo"
           }
          ],
          "scattergl": [
           {
            "marker": {
             "colorbar": {
              "outlinewidth": 0,
              "ticks": ""
             }
            },
            "type": "scattergl"
           }
          ],
          "scattermapbox": [
           {
            "marker": {
             "colorbar": {
              "outlinewidth": 0,
              "ticks": ""
             }
            },
            "type": "scattermapbox"
           }
          ],
          "scatterpolar": [
           {
            "marker": {
             "colorbar": {
              "outlinewidth": 0,
              "ticks": ""
             }
            },
            "type": "scatterpolar"
           }
          ],
          "scatterpolargl": [
           {
            "marker": {
             "colorbar": {
              "outlinewidth": 0,
              "ticks": ""
             }
            },
            "type": "scatterpolargl"
           }
          ],
          "scatterternary": [
           {
            "marker": {
             "colorbar": {
              "outlinewidth": 0,
              "ticks": ""
             }
            },
            "type": "scatterternary"
           }
          ],
          "surface": [
           {
            "colorbar": {
             "outlinewidth": 0,
             "ticks": ""
            },
            "colorscale": [
             [
              0,
              "#0d0887"
             ],
             [
              0.1111111111111111,
              "#46039f"
             ],
             [
              0.2222222222222222,
              "#7201a8"
             ],
             [
              0.3333333333333333,
              "#9c179e"
             ],
             [
              0.4444444444444444,
              "#bd3786"
             ],
             [
              0.5555555555555556,
              "#d8576b"
             ],
             [
              0.6666666666666666,
              "#ed7953"
             ],
             [
              0.7777777777777778,
              "#fb9f3a"
             ],
             [
              0.8888888888888888,
              "#fdca26"
             ],
             [
              1,
              "#f0f921"
             ]
            ],
            "type": "surface"
           }
          ],
          "table": [
           {
            "cells": {
             "fill": {
              "color": "#EBF0F8"
             },
             "line": {
              "color": "white"
             }
            },
            "header": {
             "fill": {
              "color": "#C8D4E3"
             },
             "line": {
              "color": "white"
             }
            },
            "type": "table"
           }
          ]
         },
         "layout": {
          "annotationdefaults": {
           "arrowcolor": "#2a3f5f",
           "arrowhead": 0,
           "arrowwidth": 1
          },
          "autotypenumbers": "strict",
          "coloraxis": {
           "colorbar": {
            "outlinewidth": 0,
            "ticks": ""
           }
          },
          "colorscale": {
           "diverging": [
            [
             0,
             "#8e0152"
            ],
            [
             0.1,
             "#c51b7d"
            ],
            [
             0.2,
             "#de77ae"
            ],
            [
             0.3,
             "#f1b6da"
            ],
            [
             0.4,
             "#fde0ef"
            ],
            [
             0.5,
             "#f7f7f7"
            ],
            [
             0.6,
             "#e6f5d0"
            ],
            [
             0.7,
             "#b8e186"
            ],
            [
             0.8,
             "#7fbc41"
            ],
            [
             0.9,
             "#4d9221"
            ],
            [
             1,
             "#276419"
            ]
           ],
           "sequential": [
            [
             0,
             "#0d0887"
            ],
            [
             0.1111111111111111,
             "#46039f"
            ],
            [
             0.2222222222222222,
             "#7201a8"
            ],
            [
             0.3333333333333333,
             "#9c179e"
            ],
            [
             0.4444444444444444,
             "#bd3786"
            ],
            [
             0.5555555555555556,
             "#d8576b"
            ],
            [
             0.6666666666666666,
             "#ed7953"
            ],
            [
             0.7777777777777778,
             "#fb9f3a"
            ],
            [
             0.8888888888888888,
             "#fdca26"
            ],
            [
             1,
             "#f0f921"
            ]
           ],
           "sequentialminus": [
            [
             0,
             "#0d0887"
            ],
            [
             0.1111111111111111,
             "#46039f"
            ],
            [
             0.2222222222222222,
             "#7201a8"
            ],
            [
             0.3333333333333333,
             "#9c179e"
            ],
            [
             0.4444444444444444,
             "#bd3786"
            ],
            [
             0.5555555555555556,
             "#d8576b"
            ],
            [
             0.6666666666666666,
             "#ed7953"
            ],
            [
             0.7777777777777778,
             "#fb9f3a"
            ],
            [
             0.8888888888888888,
             "#fdca26"
            ],
            [
             1,
             "#f0f921"
            ]
           ]
          },
          "colorway": [
           "#636efa",
           "#EF553B",
           "#00cc96",
           "#ab63fa",
           "#FFA15A",
           "#19d3f3",
           "#FF6692",
           "#B6E880",
           "#FF97FF",
           "#FECB52"
          ],
          "font": {
           "color": "#2a3f5f"
          },
          "geo": {
           "bgcolor": "white",
           "lakecolor": "white",
           "landcolor": "#E5ECF6",
           "showlakes": true,
           "showland": true,
           "subunitcolor": "white"
          },
          "hoverlabel": {
           "align": "left"
          },
          "hovermode": "closest",
          "mapbox": {
           "style": "light"
          },
          "paper_bgcolor": "white",
          "plot_bgcolor": "#E5ECF6",
          "polar": {
           "angularaxis": {
            "gridcolor": "white",
            "linecolor": "white",
            "ticks": ""
           },
           "bgcolor": "#E5ECF6",
           "radialaxis": {
            "gridcolor": "white",
            "linecolor": "white",
            "ticks": ""
           }
          },
          "scene": {
           "xaxis": {
            "backgroundcolor": "#E5ECF6",
            "gridcolor": "white",
            "gridwidth": 2,
            "linecolor": "white",
            "showbackground": true,
            "ticks": "",
            "zerolinecolor": "white"
           },
           "yaxis": {
            "backgroundcolor": "#E5ECF6",
            "gridcolor": "white",
            "gridwidth": 2,
            "linecolor": "white",
            "showbackground": true,
            "ticks": "",
            "zerolinecolor": "white"
           },
           "zaxis": {
            "backgroundcolor": "#E5ECF6",
            "gridcolor": "white",
            "gridwidth": 2,
            "linecolor": "white",
            "showbackground": true,
            "ticks": "",
            "zerolinecolor": "white"
           }
          },
          "shapedefaults": {
           "line": {
            "color": "#2a3f5f"
           }
          },
          "ternary": {
           "aaxis": {
            "gridcolor": "white",
            "linecolor": "white",
            "ticks": ""
           },
           "baxis": {
            "gridcolor": "white",
            "linecolor": "white",
            "ticks": ""
           },
           "bgcolor": "#E5ECF6",
           "caxis": {
            "gridcolor": "white",
            "linecolor": "white",
            "ticks": ""
           }
          },
          "title": {
           "x": 0.05
          },
          "xaxis": {
           "automargin": true,
           "gridcolor": "white",
           "linecolor": "white",
           "ticks": "",
           "title": {
            "standoff": 15
           },
           "zerolinecolor": "white",
           "zerolinewidth": 2
          },
          "yaxis": {
           "automargin": true,
           "gridcolor": "white",
           "linecolor": "white",
           "ticks": "",
           "title": {
            "standoff": 15
           },
           "zerolinecolor": "white",
           "zerolinewidth": 2
          }
         }
        },
        "title": {
         "text": "U251 injection - 5 Million cells",
         "x": 0.5
        },
        "xaxis": {
         "anchor": "y",
         "domain": [
          0,
          1
         ],
         "ticktext": [
          10,
          12,
          17,
          20,
          24,
          28
         ],
         "tickvals": [
          10,
          12,
          17,
          20,
          24,
          28
         ],
         "title": {
          "text": "Days after injection"
         }
        },
        "yaxis": {
         "anchor": "x",
         "domain": [
          0,
          1
         ],
         "title": {
          "text": "Tumor Size (mm^3)"
         }
        }
       }
      }
     },
     "metadata": {},
     "output_type": "display_data"
    }
   ],
   "source": [
    "# Use the 'px. scatter' command to plot the data and visualize the tumor growth individually. This command is specifically designed for this purpose.\n",
    "fig = px.scatter(df_U251, x='days_after_injection', y=df_U251.columns[1:], # x_axis will be 'days_after_injection' and y_axis will be the remaining dataframe columns using the comand df_U251.columns[1:] where 1: is to exclude the first column.\n",
    "                 labels={'variable': 'Tumor', 'days_after_injection':'Days after injection', 'value':'Tumor Size (mm^3)'}, # to change the labels of the x-axis, y-axis and the legend and the title\n",
    "                  title='U251 injection - 5 Million cells')\n",
    "fig.update_traces(mode = 'markers + lines')\n",
    "fig.update_layout(title_x=0.5) # to centralize the graphic title\n",
    "\n",
    "# Set specific ticks for the x-axis\n",
    "fig.update_xaxes(\n",
    "    tickvals= [10, 12, 17, 20, 24, 28],\n",
    "    ticktext= [10, 12, 17, 20, 24, 28]\n",
    ")\n",
    "\n",
    "fig.show()"
   ]
  },
  {
   "cell_type": "markdown",
   "metadata": {},
   "source": [
    "##### Ok, it's possible to observe that tumor_1 (the same as mouse 1) has a growth rate more aggresive than the other four. That point out the fact this tumor in speficic could be an outlier."
   ]
  },
  {
   "cell_type": "code",
   "execution_count": 4,
   "metadata": {},
   "outputs": [
    {
     "name": "stdout",
     "output_type": "stream",
     "text": [
      "   days_after_injection  tumor_1  tumor_2  tumor_3  tumor_4  tumor_5     mean  \\\n",
      "0                    10    50.40    39.38    35.50    32.32    16.46   34.812   \n",
      "1                    12    82.34    56.24    69.16    29.97    32.22   53.986   \n",
      "2                    17   243.80   168.57   239.31   132.60   116.17  180.090   \n",
      "3                    20   425.60   305.81   284.59   112.50   148.84  255.468   \n",
      "4                    24   744.67   480.20   472.38   383.82   313.60  478.934   \n",
      "5                    28  1211.48   555.13   609.75   529.83   334.61  648.160   \n",
      "\n",
      "          std  \n",
      "0   12.322050  \n",
      "1   22.857204  \n",
      "2   59.244724  \n",
      "3  126.626108  \n",
      "4  163.586509  \n",
      "5  331.577639  \n",
      "\n",
      "   days_after_injection  tumor_1  tumor_2  tumor_3  tumor_4  tumor_5\n",
      "0                    10    50.40    39.38    35.50    32.32    16.46\n",
      "1                    12    82.34    56.24    69.16    29.97    32.22\n",
      "2                    17   243.80   168.57   239.31   132.60   116.17\n",
      "3                    20   425.60   305.81   284.59   112.50   148.84\n",
      "4                    24   744.67   480.20   472.38   383.82   313.60\n",
      "5                    28  1211.48   555.13   609.75   529.83   334.61\n"
     ]
    }
   ],
   "source": [
    "# First step, we create a new df to copy the current one, so we don't alter it\n",
    "df_U251_mean_and_std = df_U251.copy()\n",
    "\n",
    "# Add a new column 'mean' with the mean of each row (excluding column 0)\n",
    "df_U251_mean_and_std['mean'] = df_U251_mean_and_std.iloc[:, 1:].mean(axis=1) # iloc [:, 1:] means ':' all rows will be selected, excluding the first column. Mean(axis=1) indicates that the calculation must be done in the horizontal direction (rows).\n",
    "\n",
    "# Add a new column 'std' with the standard deviation of each row (excluding column 0 and 'mean' column)\n",
    "df_U251_mean_and_std['std'] = df_U251_mean_and_std.iloc[:, 1:-1].std(axis=1) # iloc [:, 1:-1] means ':' to select all rows, the comma indicates i have another step in the selection. Then '1:-1' means to include in the calculations columns number 1 to last one, exluding column 0 (days after injection) and 'mean' column. Mean(axis=1) indicates that the calculation must be done in the horizontal direction (rows).\n",
    "\n",
    "# Print the new DataFrame\n",
    "print(df_U251_mean_and_std)\n",
    "print() # Print a blank line\n",
    "print(df_U251) # Print the original DataFrame and check if the changes are done only to the new_df"
   ]
  },
  {
   "cell_type": "markdown",
   "metadata": {},
   "source": [
    "##### Now we plot a graphic with the standard deviation and we check the difference we get"
   ]
  },
  {
   "cell_type": "code",
   "execution_count": 5,
   "metadata": {},
   "outputs": [
    {
     "data": {
      "application/vnd.plotly.v1+json": {
       "config": {
        "plotlyServerURL": "https://plot.ly"
       },
       "data": [
        {
         "fill": "tonexty",
         "fillcolor": "rgba(0,128,128,0.2)",
         "mode": "lines",
         "name": "Mean",
         "type": "scatter",
         "x": [
          10,
          12,
          17,
          20,
          24,
          28
         ],
         "y": [
          34.812,
          53.986000000000004,
          180.09,
          255.468,
          478.934,
          648.1600000000001
         ]
        },
        {
         "fill": "tonexty",
         "fillcolor": "rgba(0,128,128,0.2)",
         "mode": "lines",
         "name": "Mean + Std. Dev.",
         "type": "scatter",
         "x": [
          10,
          12,
          17,
          20,
          24,
          28
         ],
         "y": [
          47.13405015409367,
          76.84320411598935,
          239.33472423769058,
          382.094107774029,
          642.5205091625835,
          979.7376390228992
         ]
        },
        {
         "fill": "tonexty",
         "fillcolor": "rgba(0,128,128,0.2)",
         "mode": "lines",
         "name": "Mean - Std. Dev.",
         "type": "scatter",
         "x": [
          10,
          12,
          17,
          20,
          24,
          28
         ],
         "y": [
          22.489949845906324,
          31.128795884010664,
          120.84527576230943,
          128.841892225971,
          315.34749083741656,
          316.58236097710096
         ]
        }
       ],
       "layout": {
        "template": {
         "data": {
          "bar": [
           {
            "error_x": {
             "color": "#2a3f5f"
            },
            "error_y": {
             "color": "#2a3f5f"
            },
            "marker": {
             "line": {
              "color": "#E5ECF6",
              "width": 0.5
             },
             "pattern": {
              "fillmode": "overlay",
              "size": 10,
              "solidity": 0.2
             }
            },
            "type": "bar"
           }
          ],
          "barpolar": [
           {
            "marker": {
             "line": {
              "color": "#E5ECF6",
              "width": 0.5
             },
             "pattern": {
              "fillmode": "overlay",
              "size": 10,
              "solidity": 0.2
             }
            },
            "type": "barpolar"
           }
          ],
          "carpet": [
           {
            "aaxis": {
             "endlinecolor": "#2a3f5f",
             "gridcolor": "white",
             "linecolor": "white",
             "minorgridcolor": "white",
             "startlinecolor": "#2a3f5f"
            },
            "baxis": {
             "endlinecolor": "#2a3f5f",
             "gridcolor": "white",
             "linecolor": "white",
             "minorgridcolor": "white",
             "startlinecolor": "#2a3f5f"
            },
            "type": "carpet"
           }
          ],
          "choropleth": [
           {
            "colorbar": {
             "outlinewidth": 0,
             "ticks": ""
            },
            "type": "choropleth"
           }
          ],
          "contour": [
           {
            "colorbar": {
             "outlinewidth": 0,
             "ticks": ""
            },
            "colorscale": [
             [
              0,
              "#0d0887"
             ],
             [
              0.1111111111111111,
              "#46039f"
             ],
             [
              0.2222222222222222,
              "#7201a8"
             ],
             [
              0.3333333333333333,
              "#9c179e"
             ],
             [
              0.4444444444444444,
              "#bd3786"
             ],
             [
              0.5555555555555556,
              "#d8576b"
             ],
             [
              0.6666666666666666,
              "#ed7953"
             ],
             [
              0.7777777777777778,
              "#fb9f3a"
             ],
             [
              0.8888888888888888,
              "#fdca26"
             ],
             [
              1,
              "#f0f921"
             ]
            ],
            "type": "contour"
           }
          ],
          "contourcarpet": [
           {
            "colorbar": {
             "outlinewidth": 0,
             "ticks": ""
            },
            "type": "contourcarpet"
           }
          ],
          "heatmap": [
           {
            "colorbar": {
             "outlinewidth": 0,
             "ticks": ""
            },
            "colorscale": [
             [
              0,
              "#0d0887"
             ],
             [
              0.1111111111111111,
              "#46039f"
             ],
             [
              0.2222222222222222,
              "#7201a8"
             ],
             [
              0.3333333333333333,
              "#9c179e"
             ],
             [
              0.4444444444444444,
              "#bd3786"
             ],
             [
              0.5555555555555556,
              "#d8576b"
             ],
             [
              0.6666666666666666,
              "#ed7953"
             ],
             [
              0.7777777777777778,
              "#fb9f3a"
             ],
             [
              0.8888888888888888,
              "#fdca26"
             ],
             [
              1,
              "#f0f921"
             ]
            ],
            "type": "heatmap"
           }
          ],
          "heatmapgl": [
           {
            "colorbar": {
             "outlinewidth": 0,
             "ticks": ""
            },
            "colorscale": [
             [
              0,
              "#0d0887"
             ],
             [
              0.1111111111111111,
              "#46039f"
             ],
             [
              0.2222222222222222,
              "#7201a8"
             ],
             [
              0.3333333333333333,
              "#9c179e"
             ],
             [
              0.4444444444444444,
              "#bd3786"
             ],
             [
              0.5555555555555556,
              "#d8576b"
             ],
             [
              0.6666666666666666,
              "#ed7953"
             ],
             [
              0.7777777777777778,
              "#fb9f3a"
             ],
             [
              0.8888888888888888,
              "#fdca26"
             ],
             [
              1,
              "#f0f921"
             ]
            ],
            "type": "heatmapgl"
           }
          ],
          "histogram": [
           {
            "marker": {
             "pattern": {
              "fillmode": "overlay",
              "size": 10,
              "solidity": 0.2
             }
            },
            "type": "histogram"
           }
          ],
          "histogram2d": [
           {
            "colorbar": {
             "outlinewidth": 0,
             "ticks": ""
            },
            "colorscale": [
             [
              0,
              "#0d0887"
             ],
             [
              0.1111111111111111,
              "#46039f"
             ],
             [
              0.2222222222222222,
              "#7201a8"
             ],
             [
              0.3333333333333333,
              "#9c179e"
             ],
             [
              0.4444444444444444,
              "#bd3786"
             ],
             [
              0.5555555555555556,
              "#d8576b"
             ],
             [
              0.6666666666666666,
              "#ed7953"
             ],
             [
              0.7777777777777778,
              "#fb9f3a"
             ],
             [
              0.8888888888888888,
              "#fdca26"
             ],
             [
              1,
              "#f0f921"
             ]
            ],
            "type": "histogram2d"
           }
          ],
          "histogram2dcontour": [
           {
            "colorbar": {
             "outlinewidth": 0,
             "ticks": ""
            },
            "colorscale": [
             [
              0,
              "#0d0887"
             ],
             [
              0.1111111111111111,
              "#46039f"
             ],
             [
              0.2222222222222222,
              "#7201a8"
             ],
             [
              0.3333333333333333,
              "#9c179e"
             ],
             [
              0.4444444444444444,
              "#bd3786"
             ],
             [
              0.5555555555555556,
              "#d8576b"
             ],
             [
              0.6666666666666666,
              "#ed7953"
             ],
             [
              0.7777777777777778,
              "#fb9f3a"
             ],
             [
              0.8888888888888888,
              "#fdca26"
             ],
             [
              1,
              "#f0f921"
             ]
            ],
            "type": "histogram2dcontour"
           }
          ],
          "mesh3d": [
           {
            "colorbar": {
             "outlinewidth": 0,
             "ticks": ""
            },
            "type": "mesh3d"
           }
          ],
          "parcoords": [
           {
            "line": {
             "colorbar": {
              "outlinewidth": 0,
              "ticks": ""
             }
            },
            "type": "parcoords"
           }
          ],
          "pie": [
           {
            "automargin": true,
            "type": "pie"
           }
          ],
          "scatter": [
           {
            "fillpattern": {
             "fillmode": "overlay",
             "size": 10,
             "solidity": 0.2
            },
            "type": "scatter"
           }
          ],
          "scatter3d": [
           {
            "line": {
             "colorbar": {
              "outlinewidth": 0,
              "ticks": ""
             }
            },
            "marker": {
             "colorbar": {
              "outlinewidth": 0,
              "ticks": ""
             }
            },
            "type": "scatter3d"
           }
          ],
          "scattercarpet": [
           {
            "marker": {
             "colorbar": {
              "outlinewidth": 0,
              "ticks": ""
             }
            },
            "type": "scattercarpet"
           }
          ],
          "scattergeo": [
           {
            "marker": {
             "colorbar": {
              "outlinewidth": 0,
              "ticks": ""
             }
            },
            "type": "scattergeo"
           }
          ],
          "scattergl": [
           {
            "marker": {
             "colorbar": {
              "outlinewidth": 0,
              "ticks": ""
             }
            },
            "type": "scattergl"
           }
          ],
          "scattermapbox": [
           {
            "marker": {
             "colorbar": {
              "outlinewidth": 0,
              "ticks": ""
             }
            },
            "type": "scattermapbox"
           }
          ],
          "scatterpolar": [
           {
            "marker": {
             "colorbar": {
              "outlinewidth": 0,
              "ticks": ""
             }
            },
            "type": "scatterpolar"
           }
          ],
          "scatterpolargl": [
           {
            "marker": {
             "colorbar": {
              "outlinewidth": 0,
              "ticks": ""
             }
            },
            "type": "scatterpolargl"
           }
          ],
          "scatterternary": [
           {
            "marker": {
             "colorbar": {
              "outlinewidth": 0,
              "ticks": ""
             }
            },
            "type": "scatterternary"
           }
          ],
          "surface": [
           {
            "colorbar": {
             "outlinewidth": 0,
             "ticks": ""
            },
            "colorscale": [
             [
              0,
              "#0d0887"
             ],
             [
              0.1111111111111111,
              "#46039f"
             ],
             [
              0.2222222222222222,
              "#7201a8"
             ],
             [
              0.3333333333333333,
              "#9c179e"
             ],
             [
              0.4444444444444444,
              "#bd3786"
             ],
             [
              0.5555555555555556,
              "#d8576b"
             ],
             [
              0.6666666666666666,
              "#ed7953"
             ],
             [
              0.7777777777777778,
              "#fb9f3a"
             ],
             [
              0.8888888888888888,
              "#fdca26"
             ],
             [
              1,
              "#f0f921"
             ]
            ],
            "type": "surface"
           }
          ],
          "table": [
           {
            "cells": {
             "fill": {
              "color": "#EBF0F8"
             },
             "line": {
              "color": "white"
             }
            },
            "header": {
             "fill": {
              "color": "#C8D4E3"
             },
             "line": {
              "color": "white"
             }
            },
            "type": "table"
           }
          ]
         },
         "layout": {
          "annotationdefaults": {
           "arrowcolor": "#2a3f5f",
           "arrowhead": 0,
           "arrowwidth": 1
          },
          "autotypenumbers": "strict",
          "coloraxis": {
           "colorbar": {
            "outlinewidth": 0,
            "ticks": ""
           }
          },
          "colorscale": {
           "diverging": [
            [
             0,
             "#8e0152"
            ],
            [
             0.1,
             "#c51b7d"
            ],
            [
             0.2,
             "#de77ae"
            ],
            [
             0.3,
             "#f1b6da"
            ],
            [
             0.4,
             "#fde0ef"
            ],
            [
             0.5,
             "#f7f7f7"
            ],
            [
             0.6,
             "#e6f5d0"
            ],
            [
             0.7,
             "#b8e186"
            ],
            [
             0.8,
             "#7fbc41"
            ],
            [
             0.9,
             "#4d9221"
            ],
            [
             1,
             "#276419"
            ]
           ],
           "sequential": [
            [
             0,
             "#0d0887"
            ],
            [
             0.1111111111111111,
             "#46039f"
            ],
            [
             0.2222222222222222,
             "#7201a8"
            ],
            [
             0.3333333333333333,
             "#9c179e"
            ],
            [
             0.4444444444444444,
             "#bd3786"
            ],
            [
             0.5555555555555556,
             "#d8576b"
            ],
            [
             0.6666666666666666,
             "#ed7953"
            ],
            [
             0.7777777777777778,
             "#fb9f3a"
            ],
            [
             0.8888888888888888,
             "#fdca26"
            ],
            [
             1,
             "#f0f921"
            ]
           ],
           "sequentialminus": [
            [
             0,
             "#0d0887"
            ],
            [
             0.1111111111111111,
             "#46039f"
            ],
            [
             0.2222222222222222,
             "#7201a8"
            ],
            [
             0.3333333333333333,
             "#9c179e"
            ],
            [
             0.4444444444444444,
             "#bd3786"
            ],
            [
             0.5555555555555556,
             "#d8576b"
            ],
            [
             0.6666666666666666,
             "#ed7953"
            ],
            [
             0.7777777777777778,
             "#fb9f3a"
            ],
            [
             0.8888888888888888,
             "#fdca26"
            ],
            [
             1,
             "#f0f921"
            ]
           ]
          },
          "colorway": [
           "#636efa",
           "#EF553B",
           "#00cc96",
           "#ab63fa",
           "#FFA15A",
           "#19d3f3",
           "#FF6692",
           "#B6E880",
           "#FF97FF",
           "#FECB52"
          ],
          "font": {
           "color": "#2a3f5f"
          },
          "geo": {
           "bgcolor": "white",
           "lakecolor": "white",
           "landcolor": "#E5ECF6",
           "showlakes": true,
           "showland": true,
           "subunitcolor": "white"
          },
          "hoverlabel": {
           "align": "left"
          },
          "hovermode": "closest",
          "mapbox": {
           "style": "light"
          },
          "paper_bgcolor": "white",
          "plot_bgcolor": "#E5ECF6",
          "polar": {
           "angularaxis": {
            "gridcolor": "white",
            "linecolor": "white",
            "ticks": ""
           },
           "bgcolor": "#E5ECF6",
           "radialaxis": {
            "gridcolor": "white",
            "linecolor": "white",
            "ticks": ""
           }
          },
          "scene": {
           "xaxis": {
            "backgroundcolor": "#E5ECF6",
            "gridcolor": "white",
            "gridwidth": 2,
            "linecolor": "white",
            "showbackground": true,
            "ticks": "",
            "zerolinecolor": "white"
           },
           "yaxis": {
            "backgroundcolor": "#E5ECF6",
            "gridcolor": "white",
            "gridwidth": 2,
            "linecolor": "white",
            "showbackground": true,
            "ticks": "",
            "zerolinecolor": "white"
           },
           "zaxis": {
            "backgroundcolor": "#E5ECF6",
            "gridcolor": "white",
            "gridwidth": 2,
            "linecolor": "white",
            "showbackground": true,
            "ticks": "",
            "zerolinecolor": "white"
           }
          },
          "shapedefaults": {
           "line": {
            "color": "#2a3f5f"
           }
          },
          "ternary": {
           "aaxis": {
            "gridcolor": "white",
            "linecolor": "white",
            "ticks": ""
           },
           "baxis": {
            "gridcolor": "white",
            "linecolor": "white",
            "ticks": ""
           },
           "bgcolor": "#E5ECF6",
           "caxis": {
            "gridcolor": "white",
            "linecolor": "white",
            "ticks": ""
           }
          },
          "title": {
           "x": 0.05
          },
          "xaxis": {
           "automargin": true,
           "gridcolor": "white",
           "linecolor": "white",
           "ticks": "",
           "title": {
            "standoff": 15
           },
           "zerolinecolor": "white",
           "zerolinewidth": 2
          },
          "yaxis": {
           "automargin": true,
           "gridcolor": "white",
           "linecolor": "white",
           "ticks": "",
           "title": {
            "standoff": 15
           },
           "zerolinecolor": "white",
           "zerolinewidth": 2
          }
         }
        },
        "title": {
         "text": "U251 Tumor Growth",
         "x": 0.5
        },
        "xaxis": {
         "ticktext": [
          10,
          12,
          17,
          20,
          24,
          28
         ],
         "tickvals": [
          10,
          12,
          17,
          20,
          24,
          28
         ],
         "title": {
          "text": "Days Afer Injection"
         }
        },
        "yaxis": {
         "range": [
          0,
          1000
         ],
         "title": {
          "text": "Tumor Size (mm^3)"
         }
        }
       }
      }
     },
     "metadata": {},
     "output_type": "display_data"
    }
   ],
   "source": [
    "fig = go.Figure() # for this figure, we will use the go.Figure() function to create the shade region for average\n",
    "fig.add_trace(go.Scatter(\n",
    "    x=df_U251['days_after_injection'],\n",
    "    y=df_U251.iloc[:, 1:].mean(axis=1),\n",
    "    mode='lines',\n",
    "    name='Mean',\n",
    "    fill='tonexty',\n",
    "    fillcolor='rgba(0,128,128,0.2)'\n",
    "))\n",
    "fig.add_trace(go.Scatter(\n",
    "    x=df_U251['days_after_injection'],\n",
    "    y=df_U251.iloc[:, 1:].mean(axis=1) + df_U251.iloc[:, 1:].std(axis=1),\n",
    "    mode='lines',\n",
    "    name='Mean + Std. Dev.',\n",
    "    fill='tonexty',\n",
    "    fillcolor='rgba(0,128,128,0.2)'\n",
    ")) # This will create a trace for the upper bound\n",
    "fig.add_trace(go.Scatter(\n",
    "    x=df_U251['days_after_injection'],\n",
    "    y=df_U251.iloc[:, 1:].mean(axis=1) - df_U251.iloc[:, 1:].std(axis=1),\n",
    "    mode='lines',\n",
    "    name='Mean - Std. Dev.',\n",
    "    fill='tonexty',\n",
    "    fillcolor='rgba(0,128,128,0.2)'\n",
    ")) # This will create a trace for the lower bound\n",
    "fig.update_layout(\n",
    "    title='U251 Tumor Growth',\n",
    "    xaxis_title='Days Afer Injection',\n",
    "    yaxis_title='Tumor Size (mm^3)',\n",
    "    title_x = 0.5,\n",
    "    yaxis_range=[0, 1000] # this set the y-axis range to 0 to 1000\n",
    ")\n",
    "fig.update_xaxes(\n",
    "    tickvals=[10, 12, 17, 20, 24, 28],\n",
    "    ticktext=[10, 12, 17, 20, 24, 28]\n",
    ")\n",
    "fig.show()"
   ]
  },
  {
   "cell_type": "markdown",
   "metadata": {},
   "source": [
    "##### Next step is to check for outliers. A good tool to check for outlier is using quantile function"
   ]
  },
  {
   "cell_type": "code",
   "execution_count": 6,
   "metadata": {},
   "outputs": [
    {
     "name": "stdout",
     "output_type": "stream",
     "text": [
      "   days_after_injection  tumor_1  tumor_2  tumor_3  tumor_4  tumor_5\n",
      "0                    10      NaN    39.38    35.50    32.32      NaN\n",
      "1                    12    82.34    56.24    69.16    29.97    32.22\n",
      "2                    17   243.80   168.57   239.31   132.60   116.17\n",
      "3                    20   425.60   305.81   284.59   112.50   148.84\n",
      "4                    24      NaN   480.20   472.38   383.82   313.60\n",
      "5                    28      NaN   555.13   609.75   529.83      NaN\n",
      "\n",
      "   days_after_injection  tumor_1  tumor_2  tumor_3  tumor_4  tumor_5\n",
      "0                    10    50.40    39.38    35.50    32.32    16.46\n",
      "1                    12    82.34    56.24    69.16    29.97    32.22\n",
      "2                    17   243.80   168.57   239.31   132.60   116.17\n",
      "3                    20   425.60   305.81   284.59   112.50   148.84\n",
      "4                    24   744.67   480.20   472.38   383.82   313.60\n",
      "5                    28  1211.48   555.13   609.75   529.83   334.61\n"
     ]
    }
   ],
   "source": [
    "\n",
    "# Create a copy of df_U251, so any changes won't affect the original df\n",
    "df_U251_outlier = df_U251.copy()\n",
    "\n",
    "# Create a function to detect and remove outliers using the IQR method\n",
    "def remove_outliers(data_outlier, col):\n",
    "    # Select the columns of interest, excluding the first column\n",
    "    tumor_cols = [f'tumor_{i+1}' for i in range(5)] # I've added a line tumor_cols = [f'tumor_{i+1}' for i in range(5)] to create a list of tumor column names. This makes the code more readable and easier to modify if the number of tumor columns changes.\n",
    "    data_subset = data_outlier[[col] + tumor_cols] # In the line data_subset = data_outlier[[col] + tumor_cols], I'm creating the data_subset DataFrame by selecting the col column and all the tumor columns.\n",
    "\n",
    "    q1 = data_subset.iloc[:, 1:].quantile(0.25, axis=1) # Iloc is used here, so we don't take into consideration the first column \"days_after_injection\".\n",
    "    q3 = data_subset.iloc[:, 1:].quantile(0.75, axis=1)\n",
    "    iqr = q3 - q1\n",
    "\n",
    "    # Broadcast the scalar values to have the same length as the number of rows\n",
    "    lower_bound = q1.values.reshape(-1, 1) - (1.5 * iqr.values.reshape(-1, 1))\n",
    "    upper_bound = q3.values.reshape(-1, 1) + (1.5 * iqr.values.reshape(-1, 1))\n",
    "\n",
    "    # Repeat the lower_bound and upper_bound arrays to match the number of columns\n",
    "    lower_bound = np.repeat(lower_bound, data_subset.shape[1] - 1, axis=1)\n",
    "    upper_bound = np.repeat(upper_bound, data_subset.shape[1] - 1, axis=1)\n",
    "\n",
    "    # Update the original DataFrame with outliers replaced by NaN\n",
    "    data_outlier.loc[:, tumor_cols] = np.where(\n",
    "        np.logical_and(data_subset.iloc[:, 1:].values >= lower_bound, data_subset.iloc[:, 1:].values <= upper_bound),\n",
    "        data_subset.iloc[:, 1:].values,\n",
    "        np.nan\n",
    "    ) # In the line data_outlier.loc[:, tumor_cols] = np.where(...), I'm using loc instead of iloc to update the tumor columns in the original DataFrame data_outlier.\n",
    "\n",
    "    return data_outlier\n",
    "\n",
    "# Apply the function to the data\n",
    "for col in [f'tumor_{i+1}' for i in range(5)]:\n",
    "    df_U251_outlier = remove_outliers(df_U251_outlier, col)\n",
    "\n",
    "# Print the updated DataFrame with outliers removed\n",
    "print(df_U251_outlier)\n",
    "print() # To create a space between the two DataFrames\n",
    "print(df_U251)"
   ]
  },
  {
   "cell_type": "markdown",
   "metadata": {},
   "source": [
    "So, some outliers were identified here. From now on, we have two options: Option number one, the growth rate of tumor_1 is not the same as compared with the other four tumors. So, we could exclude tumor_1, which has three outliers. Or we could exclude only the outliers and replace the NaN entries with averages for each row. We will do both in this notebook. By the end of this work, we will also check the impact of not removing outliers from the data.\n"
   ]
  },
  {
   "cell_type": "markdown",
   "metadata": {},
   "source": [
    "## Excluding Tumor_1"
   ]
  },
  {
   "cell_type": "markdown",
   "metadata": {},
   "source": [
    "Considering tumor_1 as an outlier in our code, we will remove the animal from the from the dataframe and check for new outliers."
   ]
  },
  {
   "cell_type": "code",
   "execution_count": 7,
   "metadata": {},
   "outputs": [
    {
     "name": "stdout",
     "output_type": "stream",
     "text": [
      "   days_after_injection  tumor_2  tumor_3  tumor_4  tumor_5\n",
      "0                    10    39.38    35.50    32.32    16.46\n",
      "1                    12    56.24    69.16    29.97    32.22\n",
      "2                    17   168.57   239.31   132.60   116.17\n",
      "3                    20   305.81   284.59   112.50   148.84\n",
      "4                    24   480.20   472.38   383.82   313.60\n",
      "5                    28   555.13   609.75   529.83   334.61\n",
      "\n",
      "   days_after_injection  tumor_1  tumor_2  tumor_3  tumor_4  tumor_5\n",
      "0                    10    50.40    39.38    35.50    32.32    16.46\n",
      "1                    12    82.34    56.24    69.16    29.97    32.22\n",
      "2                    17   243.80   168.57   239.31   132.60   116.17\n",
      "3                    20   425.60   305.81   284.59   112.50   148.84\n",
      "4                    24   744.67   480.20   472.38   383.82   313.60\n",
      "5                    28  1211.48   555.13   609.75   529.83   334.61\n"
     ]
    }
   ],
   "source": [
    "# First we create a copy of the df_U251\n",
    "df_U251_tumor2_5 = df_U251.copy()\n",
    "\n",
    "# In order to remove the tumor_1 we need to use the function drop\n",
    "df_U251_tumor2_5 = df_U251_tumor2_5.drop(['tumor_1'], axis=1)\n",
    "print(df_U251_tumor2_5)\n",
    "\n",
    "print() # print empty line\n",
    "# also print the df_U251 to check if any changes where applied\n",
    "print(df_U251)"
   ]
  },
  {
   "cell_type": "code",
   "execution_count": 8,
   "metadata": {},
   "outputs": [
    {
     "data": {
      "application/vnd.plotly.v1+json": {
       "config": {
        "plotlyServerURL": "https://plot.ly"
       },
       "data": [
        {
         "fill": "tonexty",
         "fillcolor": "rgba(0,128,128,0.2)",
         "mode": "lines",
         "name": "Mean",
         "type": "scatter",
         "x": [
          10,
          12,
          17,
          20,
          24,
          28
         ],
         "y": [
          30.915,
          46.8975,
          164.1625,
          212.935,
          412.5,
          507.33000000000004
         ]
        },
        {
         "fill": "tonexty",
         "fillcolor": "rgba(0,128,128,0.2)",
         "mode": "lines",
         "name": "Mean + Std. Dev.",
         "type": "scatter",
         "x": [
          10,
          12,
          17,
          20,
          24,
          28
         ],
         "y": [
          40.97481278818514,
          65.91390059702852,
          218.83133412877945,
          309.4674865869862,
          491.6046918119695,
          627.20930708286
         ]
        },
        {
         "fill": "tonexty",
         "fillcolor": "rgba(0,128,128,0.2)",
         "mode": "lines",
         "name": "Mean - Std. Dev.",
         "type": "scatter",
         "x": [
          10,
          12,
          17,
          20,
          24,
          28
         ],
         "y": [
          20.855187211814858,
          27.88109940297148,
          109.49366587122054,
          116.40251341301384,
          333.3953081880305,
          387.45069291714
         ]
        }
       ],
       "layout": {
        "template": {
         "data": {
          "bar": [
           {
            "error_x": {
             "color": "#2a3f5f"
            },
            "error_y": {
             "color": "#2a3f5f"
            },
            "marker": {
             "line": {
              "color": "#E5ECF6",
              "width": 0.5
             },
             "pattern": {
              "fillmode": "overlay",
              "size": 10,
              "solidity": 0.2
             }
            },
            "type": "bar"
           }
          ],
          "barpolar": [
           {
            "marker": {
             "line": {
              "color": "#E5ECF6",
              "width": 0.5
             },
             "pattern": {
              "fillmode": "overlay",
              "size": 10,
              "solidity": 0.2
             }
            },
            "type": "barpolar"
           }
          ],
          "carpet": [
           {
            "aaxis": {
             "endlinecolor": "#2a3f5f",
             "gridcolor": "white",
             "linecolor": "white",
             "minorgridcolor": "white",
             "startlinecolor": "#2a3f5f"
            },
            "baxis": {
             "endlinecolor": "#2a3f5f",
             "gridcolor": "white",
             "linecolor": "white",
             "minorgridcolor": "white",
             "startlinecolor": "#2a3f5f"
            },
            "type": "carpet"
           }
          ],
          "choropleth": [
           {
            "colorbar": {
             "outlinewidth": 0,
             "ticks": ""
            },
            "type": "choropleth"
           }
          ],
          "contour": [
           {
            "colorbar": {
             "outlinewidth": 0,
             "ticks": ""
            },
            "colorscale": [
             [
              0,
              "#0d0887"
             ],
             [
              0.1111111111111111,
              "#46039f"
             ],
             [
              0.2222222222222222,
              "#7201a8"
             ],
             [
              0.3333333333333333,
              "#9c179e"
             ],
             [
              0.4444444444444444,
              "#bd3786"
             ],
             [
              0.5555555555555556,
              "#d8576b"
             ],
             [
              0.6666666666666666,
              "#ed7953"
             ],
             [
              0.7777777777777778,
              "#fb9f3a"
             ],
             [
              0.8888888888888888,
              "#fdca26"
             ],
             [
              1,
              "#f0f921"
             ]
            ],
            "type": "contour"
           }
          ],
          "contourcarpet": [
           {
            "colorbar": {
             "outlinewidth": 0,
             "ticks": ""
            },
            "type": "contourcarpet"
           }
          ],
          "heatmap": [
           {
            "colorbar": {
             "outlinewidth": 0,
             "ticks": ""
            },
            "colorscale": [
             [
              0,
              "#0d0887"
             ],
             [
              0.1111111111111111,
              "#46039f"
             ],
             [
              0.2222222222222222,
              "#7201a8"
             ],
             [
              0.3333333333333333,
              "#9c179e"
             ],
             [
              0.4444444444444444,
              "#bd3786"
             ],
             [
              0.5555555555555556,
              "#d8576b"
             ],
             [
              0.6666666666666666,
              "#ed7953"
             ],
             [
              0.7777777777777778,
              "#fb9f3a"
             ],
             [
              0.8888888888888888,
              "#fdca26"
             ],
             [
              1,
              "#f0f921"
             ]
            ],
            "type": "heatmap"
           }
          ],
          "heatmapgl": [
           {
            "colorbar": {
             "outlinewidth": 0,
             "ticks": ""
            },
            "colorscale": [
             [
              0,
              "#0d0887"
             ],
             [
              0.1111111111111111,
              "#46039f"
             ],
             [
              0.2222222222222222,
              "#7201a8"
             ],
             [
              0.3333333333333333,
              "#9c179e"
             ],
             [
              0.4444444444444444,
              "#bd3786"
             ],
             [
              0.5555555555555556,
              "#d8576b"
             ],
             [
              0.6666666666666666,
              "#ed7953"
             ],
             [
              0.7777777777777778,
              "#fb9f3a"
             ],
             [
              0.8888888888888888,
              "#fdca26"
             ],
             [
              1,
              "#f0f921"
             ]
            ],
            "type": "heatmapgl"
           }
          ],
          "histogram": [
           {
            "marker": {
             "pattern": {
              "fillmode": "overlay",
              "size": 10,
              "solidity": 0.2
             }
            },
            "type": "histogram"
           }
          ],
          "histogram2d": [
           {
            "colorbar": {
             "outlinewidth": 0,
             "ticks": ""
            },
            "colorscale": [
             [
              0,
              "#0d0887"
             ],
             [
              0.1111111111111111,
              "#46039f"
             ],
             [
              0.2222222222222222,
              "#7201a8"
             ],
             [
              0.3333333333333333,
              "#9c179e"
             ],
             [
              0.4444444444444444,
              "#bd3786"
             ],
             [
              0.5555555555555556,
              "#d8576b"
             ],
             [
              0.6666666666666666,
              "#ed7953"
             ],
             [
              0.7777777777777778,
              "#fb9f3a"
             ],
             [
              0.8888888888888888,
              "#fdca26"
             ],
             [
              1,
              "#f0f921"
             ]
            ],
            "type": "histogram2d"
           }
          ],
          "histogram2dcontour": [
           {
            "colorbar": {
             "outlinewidth": 0,
             "ticks": ""
            },
            "colorscale": [
             [
              0,
              "#0d0887"
             ],
             [
              0.1111111111111111,
              "#46039f"
             ],
             [
              0.2222222222222222,
              "#7201a8"
             ],
             [
              0.3333333333333333,
              "#9c179e"
             ],
             [
              0.4444444444444444,
              "#bd3786"
             ],
             [
              0.5555555555555556,
              "#d8576b"
             ],
             [
              0.6666666666666666,
              "#ed7953"
             ],
             [
              0.7777777777777778,
              "#fb9f3a"
             ],
             [
              0.8888888888888888,
              "#fdca26"
             ],
             [
              1,
              "#f0f921"
             ]
            ],
            "type": "histogram2dcontour"
           }
          ],
          "mesh3d": [
           {
            "colorbar": {
             "outlinewidth": 0,
             "ticks": ""
            },
            "type": "mesh3d"
           }
          ],
          "parcoords": [
           {
            "line": {
             "colorbar": {
              "outlinewidth": 0,
              "ticks": ""
             }
            },
            "type": "parcoords"
           }
          ],
          "pie": [
           {
            "automargin": true,
            "type": "pie"
           }
          ],
          "scatter": [
           {
            "fillpattern": {
             "fillmode": "overlay",
             "size": 10,
             "solidity": 0.2
            },
            "type": "scatter"
           }
          ],
          "scatter3d": [
           {
            "line": {
             "colorbar": {
              "outlinewidth": 0,
              "ticks": ""
             }
            },
            "marker": {
             "colorbar": {
              "outlinewidth": 0,
              "ticks": ""
             }
            },
            "type": "scatter3d"
           }
          ],
          "scattercarpet": [
           {
            "marker": {
             "colorbar": {
              "outlinewidth": 0,
              "ticks": ""
             }
            },
            "type": "scattercarpet"
           }
          ],
          "scattergeo": [
           {
            "marker": {
             "colorbar": {
              "outlinewidth": 0,
              "ticks": ""
             }
            },
            "type": "scattergeo"
           }
          ],
          "scattergl": [
           {
            "marker": {
             "colorbar": {
              "outlinewidth": 0,
              "ticks": ""
             }
            },
            "type": "scattergl"
           }
          ],
          "scattermapbox": [
           {
            "marker": {
             "colorbar": {
              "outlinewidth": 0,
              "ticks": ""
             }
            },
            "type": "scattermapbox"
           }
          ],
          "scatterpolar": [
           {
            "marker": {
             "colorbar": {
              "outlinewidth": 0,
              "ticks": ""
             }
            },
            "type": "scatterpolar"
           }
          ],
          "scatterpolargl": [
           {
            "marker": {
             "colorbar": {
              "outlinewidth": 0,
              "ticks": ""
             }
            },
            "type": "scatterpolargl"
           }
          ],
          "scatterternary": [
           {
            "marker": {
             "colorbar": {
              "outlinewidth": 0,
              "ticks": ""
             }
            },
            "type": "scatterternary"
           }
          ],
          "surface": [
           {
            "colorbar": {
             "outlinewidth": 0,
             "ticks": ""
            },
            "colorscale": [
             [
              0,
              "#0d0887"
             ],
             [
              0.1111111111111111,
              "#46039f"
             ],
             [
              0.2222222222222222,
              "#7201a8"
             ],
             [
              0.3333333333333333,
              "#9c179e"
             ],
             [
              0.4444444444444444,
              "#bd3786"
             ],
             [
              0.5555555555555556,
              "#d8576b"
             ],
             [
              0.6666666666666666,
              "#ed7953"
             ],
             [
              0.7777777777777778,
              "#fb9f3a"
             ],
             [
              0.8888888888888888,
              "#fdca26"
             ],
             [
              1,
              "#f0f921"
             ]
            ],
            "type": "surface"
           }
          ],
          "table": [
           {
            "cells": {
             "fill": {
              "color": "#EBF0F8"
             },
             "line": {
              "color": "white"
             }
            },
            "header": {
             "fill": {
              "color": "#C8D4E3"
             },
             "line": {
              "color": "white"
             }
            },
            "type": "table"
           }
          ]
         },
         "layout": {
          "annotationdefaults": {
           "arrowcolor": "#2a3f5f",
           "arrowhead": 0,
           "arrowwidth": 1
          },
          "autotypenumbers": "strict",
          "coloraxis": {
           "colorbar": {
            "outlinewidth": 0,
            "ticks": ""
           }
          },
          "colorscale": {
           "diverging": [
            [
             0,
             "#8e0152"
            ],
            [
             0.1,
             "#c51b7d"
            ],
            [
             0.2,
             "#de77ae"
            ],
            [
             0.3,
             "#f1b6da"
            ],
            [
             0.4,
             "#fde0ef"
            ],
            [
             0.5,
             "#f7f7f7"
            ],
            [
             0.6,
             "#e6f5d0"
            ],
            [
             0.7,
             "#b8e186"
            ],
            [
             0.8,
             "#7fbc41"
            ],
            [
             0.9,
             "#4d9221"
            ],
            [
             1,
             "#276419"
            ]
           ],
           "sequential": [
            [
             0,
             "#0d0887"
            ],
            [
             0.1111111111111111,
             "#46039f"
            ],
            [
             0.2222222222222222,
             "#7201a8"
            ],
            [
             0.3333333333333333,
             "#9c179e"
            ],
            [
             0.4444444444444444,
             "#bd3786"
            ],
            [
             0.5555555555555556,
             "#d8576b"
            ],
            [
             0.6666666666666666,
             "#ed7953"
            ],
            [
             0.7777777777777778,
             "#fb9f3a"
            ],
            [
             0.8888888888888888,
             "#fdca26"
            ],
            [
             1,
             "#f0f921"
            ]
           ],
           "sequentialminus": [
            [
             0,
             "#0d0887"
            ],
            [
             0.1111111111111111,
             "#46039f"
            ],
            [
             0.2222222222222222,
             "#7201a8"
            ],
            [
             0.3333333333333333,
             "#9c179e"
            ],
            [
             0.4444444444444444,
             "#bd3786"
            ],
            [
             0.5555555555555556,
             "#d8576b"
            ],
            [
             0.6666666666666666,
             "#ed7953"
            ],
            [
             0.7777777777777778,
             "#fb9f3a"
            ],
            [
             0.8888888888888888,
             "#fdca26"
            ],
            [
             1,
             "#f0f921"
            ]
           ]
          },
          "colorway": [
           "#636efa",
           "#EF553B",
           "#00cc96",
           "#ab63fa",
           "#FFA15A",
           "#19d3f3",
           "#FF6692",
           "#B6E880",
           "#FF97FF",
           "#FECB52"
          ],
          "font": {
           "color": "#2a3f5f"
          },
          "geo": {
           "bgcolor": "white",
           "lakecolor": "white",
           "landcolor": "#E5ECF6",
           "showlakes": true,
           "showland": true,
           "subunitcolor": "white"
          },
          "hoverlabel": {
           "align": "left"
          },
          "hovermode": "closest",
          "mapbox": {
           "style": "light"
          },
          "paper_bgcolor": "white",
          "plot_bgcolor": "#E5ECF6",
          "polar": {
           "angularaxis": {
            "gridcolor": "white",
            "linecolor": "white",
            "ticks": ""
           },
           "bgcolor": "#E5ECF6",
           "radialaxis": {
            "gridcolor": "white",
            "linecolor": "white",
            "ticks": ""
           }
          },
          "scene": {
           "xaxis": {
            "backgroundcolor": "#E5ECF6",
            "gridcolor": "white",
            "gridwidth": 2,
            "linecolor": "white",
            "showbackground": true,
            "ticks": "",
            "zerolinecolor": "white"
           },
           "yaxis": {
            "backgroundcolor": "#E5ECF6",
            "gridcolor": "white",
            "gridwidth": 2,
            "linecolor": "white",
            "showbackground": true,
            "ticks": "",
            "zerolinecolor": "white"
           },
           "zaxis": {
            "backgroundcolor": "#E5ECF6",
            "gridcolor": "white",
            "gridwidth": 2,
            "linecolor": "white",
            "showbackground": true,
            "ticks": "",
            "zerolinecolor": "white"
           }
          },
          "shapedefaults": {
           "line": {
            "color": "#2a3f5f"
           }
          },
          "ternary": {
           "aaxis": {
            "gridcolor": "white",
            "linecolor": "white",
            "ticks": ""
           },
           "baxis": {
            "gridcolor": "white",
            "linecolor": "white",
            "ticks": ""
           },
           "bgcolor": "#E5ECF6",
           "caxis": {
            "gridcolor": "white",
            "linecolor": "white",
            "ticks": ""
           }
          },
          "title": {
           "x": 0.05
          },
          "xaxis": {
           "automargin": true,
           "gridcolor": "white",
           "linecolor": "white",
           "ticks": "",
           "title": {
            "standoff": 15
           },
           "zerolinecolor": "white",
           "zerolinewidth": 2
          },
          "yaxis": {
           "automargin": true,
           "gridcolor": "white",
           "linecolor": "white",
           "ticks": "",
           "title": {
            "standoff": 15
           },
           "zerolinecolor": "white",
           "zerolinewidth": 2
          }
         }
        },
        "title": {
         "text": "U251 Tumor Growth for 50uL Injection",
         "x": 0.5
        },
        "xaxis": {
         "ticktext": [
          10,
          12,
          17,
          20,
          24,
          28
         ],
         "tickvals": [
          10,
          12,
          17,
          20,
          24,
          28
         ],
         "title": {
          "text": "Days Afer Injection"
         }
        },
        "yaxis": {
         "range": [
          0,
          1000
         ],
         "title": {
          "text": "Tumor Size (mm^3)"
         }
        }
       }
      }
     },
     "metadata": {},
     "output_type": "display_data"
    },
    {
     "name": "stdout",
     "output_type": "stream",
     "text": [
      "0     26.732\n",
      "1     39.918\n",
      "2    134.730\n",
      "3    174.348\n",
      "4    334.800\n",
      "5    411.464\n",
      "dtype: float64\n"
     ]
    }
   ],
   "source": [
    "fig = go.Figure()\n",
    "fig.add_trace(go.Scatter(\n",
    "    x=df_U251_tumor2_5['days_after_injection'],\n",
    "    y=df_U251_tumor2_5.iloc[:, 1:].mean(axis=1),\n",
    "    mode='lines',\n",
    "    name='Mean',\n",
    "    fill='tonexty',\n",
    "    fillcolor='rgba(0,128,128,0.2)'\n",
    "))\n",
    "fig.add_trace(go.Scatter(\n",
    "    x=df_U251_tumor2_5['days_after_injection'],\n",
    "    y=df_U251_tumor2_5.iloc[:, 1:].mean(axis=1) + df_U251_tumor2_5.iloc[:, 1:].std(axis=1),\n",
    "    mode='lines',\n",
    "    name='Mean + Std. Dev.',\n",
    "    fill='tonexty',\n",
    "    fillcolor='rgba(0,128,128,0.2)'\n",
    ")) # This will create a trace for the upper bound\n",
    "fig.add_trace(go.Scatter(\n",
    "    x=df_U251_tumor2_5['days_after_injection'],\n",
    "    y=df_U251_tumor2_5.iloc[:, 1:].mean(axis=1) - df_U251_tumor2_5.iloc[:, 1:].std(axis=1),\n",
    "    mode='lines',\n",
    "    name='Mean - Std. Dev.',\n",
    "    fill='tonexty',\n",
    "    fillcolor='rgba(0,128,128,0.2)'\n",
    ")) # This will create a trace for the lower bound\n",
    "fig.update_layout(\n",
    "    title='U251 Tumor Growth for 50uL Injection',\n",
    "    xaxis_title='Days Afer Injection',\n",
    "    title_x = 0.5, # to centralize the title\n",
    "    yaxis_title='Tumor Size (mm^3)',\n",
    "    yaxis_range=[0, 1000] # this set the y-axis range to 0 to 1000\n",
    ")\n",
    "fig.update_xaxes(\n",
    "    tickvals=[10, 12, 17, 20, 24, 28],\n",
    "    ticktext=[10, 12, 17, 20, 24, 28]\n",
    ")\n",
    "fig.show()\n",
    "\n",
    "print(df_U251_tumor2_5.mean(axis=1))"
   ]
  },
  {
   "cell_type": "markdown",
   "metadata": {},
   "source": [
    "#### Now let's check for outliers in this cleaned dataset"
   ]
  },
  {
   "cell_type": "code",
   "execution_count": 9,
   "metadata": {},
   "outputs": [
    {
     "name": "stdout",
     "output_type": "stream",
     "text": [
      "   days_after_injection  tumor_2  tumor_3  tumor_4  tumor_5\n",
      "0                    10    39.38    35.50    32.32    16.46\n",
      "1                    12    56.24    69.16    29.97    32.22\n",
      "2                    17   168.57   239.31   132.60   116.17\n",
      "3                    20   305.81   284.59   112.50   148.84\n",
      "4                    24   480.20   472.38   383.82   313.60\n",
      "5                    28   555.13   609.75   529.83      NaN\n"
     ]
    }
   ],
   "source": [
    "# Create a copy of df_U251_tumor2_5 to df_U251_tumor_2_5_outlier_removed\n",
    "df_U251_tumor_2_5_outlier_removed = df_U251_tumor2_5.copy()\n",
    "\n",
    "# Create a function to detect and remove outliers using the IQR method\n",
    "def remove_outliers1(data_outlier1, col):\n",
    "    # Select the columns of interest, excluding the first column\n",
    "    tumor_cols1 = [f'tumor_{i}' for i in range(2, 6)] # Start from range of 2 because tumor_1 doesn't exist in this df\n",
    "    data_subset1 = data_outlier1[[col] + tumor_cols1] # In the line data_subset = data_outlier[[col] + tumor_cols], I'm creating the data_subset DataFrame by selecting the col column and all the tumor columns.\n",
    "\n",
    "    q1 = data_subset1.iloc[:, 1:].quantile(0.25, axis=1) # Iloc is used here, so we don't take into consideration the first column \"days_after_injection\".\n",
    "    q3 = data_subset1.iloc[:, 1:].quantile(0.75, axis=1)\n",
    "    iqr = q3 - q1\n",
    "\n",
    "    # Broadcast the scalar values to have the same length as the number of rows\n",
    "    lower_bound1 = q1.values.reshape(-1, 1) - (1.5 * iqr.values.reshape(-1, 1))\n",
    "    upper_bound1 = q3.values.reshape(-1, 1) + (1.5 * iqr.values.reshape(-1, 1))\n",
    "\n",
    "    # Repeat the lower_bound and upper_bound arrays to match the number of columns\n",
    "    lower_bound1 = np.repeat(lower_bound1, data_subset1.shape[1] - 1, axis=1)\n",
    "    upper_bound1 = np.repeat(upper_bound1, data_subset1.shape[1] - 1, axis=1)\n",
    "\n",
    "    # Update the original DataFrame with outliers replaced by NaN\n",
    "    data_outlier1.loc[:, tumor_cols1] = np.where(\n",
    "        np.logical_and(data_subset1.iloc[:, 1:].values >= lower_bound1, data_subset1.iloc[:, 1:].values <= upper_bound1),\n",
    "        data_subset1.iloc[:, 1:].values,\n",
    "        np.nan\n",
    "    ) # In the line data_outlier.loc[:, tumor_cols] = np.where(...), I'm using loc instead of iloc to update the tumor columns in the original DataFrame data_outlier.\n",
    "\n",
    "    return data_outlier1\n",
    "\n",
    "# Apply the function to the data\n",
    "for col in ['days_after_injection']: # Assuming 'days_after_injection' is the column you want to iterate over\n",
    "    df_U251_tumor_2_5_outlier_removed = remove_outliers1(df_U251_tumor_2_5_outlier_removed, col)\n",
    "\n",
    "# Print the updated DataFrame with outliers removed\n",
    "print(df_U251_tumor_2_5_outlier_removed)"
   ]
  },
  {
   "cell_type": "markdown",
   "metadata": {},
   "source": [
    "So, it identifies one outlier in tumor_5. Let's replace the NaN entry with mean of each row, excluding first column (days_after_injection)"
   ]
  },
  {
   "cell_type": "code",
   "execution_count": 10,
   "metadata": {},
   "outputs": [
    {
     "name": "stdout",
     "output_type": "stream",
     "text": [
      "   days_after_injection  tumor_2  tumor_3  tumor_4  tumor_5\n",
      "0                    10    39.38    35.50    32.32    16.46\n",
      "1                    12    56.24    69.16    29.97    32.22\n",
      "2                    17   168.57   239.31   132.60   116.17\n",
      "3                    20   305.81   284.59   112.50   148.84\n",
      "4                    24   480.20   472.38   383.82   313.60\n",
      "5                    28   555.13   609.75   529.83   564.90\n"
     ]
    }
   ],
   "source": [
    "# Calculate the mean of the non-missing values in each row, excluding the first column\n",
    "mean_outlier_tumor2_5 = df_U251_tumor_2_5_outlier_removed.iloc[:, 1:].mean(axis=1)\n",
    "\n",
    "# Reset the index of the mean_outlier_tumor2_5 series\n",
    "mean_outlier_tumor2_5 = mean_outlier_tumor2_5.reset_index(drop=True)\n",
    "\n",
    "# Replace the NaN values in the last column with the mean of the non-missing values in each row, rounded to two decimal places\n",
    "df_U251_tumor_2_5_outlier_removed.iloc[:, -1] = df_U251_tumor_2_5_outlier_removed.iloc[:, -1].fillna(mean_outlier_tumor2_5).round(2)\n",
    "\n",
    "print(df_U251_tumor_2_5_outlier_removed)"
   ]
  },
  {
   "cell_type": "code",
   "execution_count": 11,
   "metadata": {},
   "outputs": [
    {
     "name": "stdout",
     "output_type": "stream",
     "text": [
      "Linear Regression Equation: Y = -312.87 + X * 29.82\n",
      "\n",
      "Please see the predictions below:\n",
      "[[  4.20033403  11.57665971 -32.31846903 -42.31890049]\n",
      " [ 66.16613779  75.93862213  23.16979819  14.39103688]\n",
      " [221.08064718 236.84352818 161.89046625 156.16588031]\n",
      " [314.02935282 333.38647182 245.12286708 241.23078636]\n",
      " [437.96096033 462.11039666 356.09940153 354.6506611 ]\n",
      " [561.89256785 590.8343215  467.07593598 468.07053584]]\n",
      "\n",
      "Please see the coefficients below:\n",
      "[[30.98290188]\n",
      " [32.18098121]\n",
      " [27.74413361]\n",
      " [28.35496868]]\n",
      "\n",
      "Please see the intercept below:\n",
      "[-305.62868476 -310.2331524  -309.75980515 -325.86858733]\n",
      "\n",
      "Please see the MSE, R^2 and MRSE below:\n",
      "MSE: 2575.29 The Mean Square Error (MSE) measures the average squared \n",
      "      difference between the actual and predicted values in the model.\n",
      "      Lower MSE values indicate better model performance\n",
      "R^2: 0.93 The R-squared value measures the proportion of the variance \n",
      "      in the dependent variable that is predictable from the independent variable. \n",
      "      Higher R-squared vaules indicate better model performance\n",
      "MRSE: 0.21 The Mean Relative Square Error (MRSE) is a variation \n",
      "      of MSE that accounts for the scale of the data by normalizing the squared error \n",
      "      using the mean of the actual values. It is useful when the scale of the target \n",
      "      variable varies widely across samples. \n",
      "      Like MSE, lower MSRE values indicate better model performance\n"
     ]
    }
   ],
   "source": [
    "# Now, we need to create the X and y for the linear regression model. Since there are more than one tumor, each tumor will be assigned to a different y\n",
    "X = df_U251_tumor_2_5_outlier_removed['days_after_injection'].values.reshape(-1, 1) # create the X array\n",
    "y2= np.array(df_U251_tumor_2_5_outlier_removed['tumor_2'])\n",
    "y3= np.array(df_U251_tumor_2_5_outlier_removed['tumor_3'])\n",
    "y4= np.array(df_U251_tumor_2_5_outlier_removed['tumor_4'])\n",
    "y5= np.array(df_U251_tumor_2_5_outlier_removed['tumor_5'])\n",
    "\n",
    "Y = np.vstack([y2, y3, y4, y5]).T # stack the y arrays vertically into one single Y\n",
    "\n",
    "model = LinearRegression().fit(X, Y) # create the linear regression model\n",
    "\n",
    "predictions = model.predict(X) # predict the y values\n",
    "y_pred = model.predict(X)\n",
    "mse = mean_squared_error(Y,y_pred)\n",
    "r2 = r2_score(Y, y_pred)\n",
    "mrse = np.sqrt(mse)/np.mean(Y)\n",
    "\n",
    "average_coef = np.mean([model.coef_]) # calculate the average coefficient of the linear regression equation. Omit [0][0] for gettin the right number\n",
    "average_intercept = np.mean([model.intercept_]) # calculate the average intercept of the linear regression equation\n",
    "\n",
    "#print(f'Linear regression equation: y = {model.intercept_[0].item():.2f} + {model.coef_[0][0].item():.2f} * x') # print the linear regression equation. This equation is for the first tumor. To have an equation taking into consideration all tumors, please use the average_intercept and average_coef variables\n",
    "print(f'Linear Regression Equation: Y = {average_intercept:.2f} + X * {average_coef:.2f}') # print the linear regression equation. This equation considers all tumors tumor based on the averages of intercept and coefficient.\n",
    "print() # To print a space between the two print statements\n",
    "print('Please see the predictions below:')\n",
    "print(predictions) # print the predicted y values\n",
    "\n",
    "print() # To print a space between the two print statements\n",
    "print('Please see the coefficients below:')\n",
    "print(model.coef_) # print the coefficients of the linear regression equation\n",
    "print() # to print a space between the two print statements\n",
    "print('Please see the intercept below:')\n",
    "print(model.intercept_) # print the intercept of the linear regression equation\n",
    "\n",
    "print() # to print a space between the two print statements\n",
    "print('Please see the MSE, R^2 and MRSE below:')\n",
    "print(f'MSE: {mse:.2f}', '''The Mean Square Error (MSE) measures the average squared \n",
    "      difference between the actual and predicted values in the model.\n",
    "      Lower MSE values indicate better model performance''') # print the mean squared error of the linear regression model\n",
    "print(f'R^2: {r2:.2f}', '''The R-squared value measures the proportion of the variance \n",
    "      in the dependent variable that is predictable from the independent variable. \n",
    "      Higher R-squared vaules indicate better model performance''') # print the R-squared value of the linear regression model\n",
    "print(f'MRSE: {mrse:.2f}', '''The Mean Relative Square Error (MRSE) is a variation \n",
    "      of MSE that accounts for the scale of the data by normalizing the squared error \n",
    "      using the mean of the actual values. It is useful when the scale of the target \n",
    "      variable varies widely across samples. \n",
    "      Like MSE, lower MSRE values indicate better model performance''') # print the mean root squared error of the linear regression model"
   ]
  },
  {
   "cell_type": "code",
   "execution_count": 12,
   "metadata": {},
   "outputs": [
    {
     "data": {
      "image/png": "[encoded data removed]",
      "text/plain": [
       "<Figure size 640x480 with 1 Axes>"
      ]
     },
     "metadata": {},
     "output_type": "display_data"
    },
    {
     "data": {
      "image/png": "[encoded data removed]",
      "text/plain": [
       "<Figure size 640x480 with 1 Axes>"
      ]
     },
     "metadata": {},
     "output_type": "display_data"
    },
    {
     "name": "stdout",
     "output_type": "stream",
     "text": [
      "Linear Regression Equation: Y = -312.87 + 29.82*X\n",
      "MSE: 2575.29\n",
      "R^2: 0.93\n",
      "MRSE: 0.21\n"
     ]
    }
   ],
   "source": [
    "# Plot the data obtained from the linear regression model with df from tumor_2 to tumor_5 \"df_U251_tumor_2_5_outlier_removed\"\n",
    "# Plot each set of y-values separately\n",
    "for i in range(Y.shape[1]):\n",
    "    plt.scatter(X, Y[:, i], label=f'Tumor {i+2}')\n",
    "\n",
    "# Plot the linear regression equation\n",
    "x_values = np.linspace(X.min(), X.max(), 100)\n",
    "y_values = average_intercept + average_coef * x_values\n",
    "plt.plot(x_values, y_values, label='Linear regression')\n",
    "\n",
    "# Add a legend, labels, and title\n",
    "plt.legend()\n",
    "plt.ylabel('Tumor Size (mm^3)')\n",
    "plt.xlabel('Days After Injection')\n",
    "plt.title('Linear Regression Model for Tumor 2 to 5')\n",
    "plt.xticks([10, 12, 17, 20, 24, 28])\n",
    "\n",
    "# Show the plot\n",
    "plt.show()\n",
    "\n",
    "\n",
    "# Calculate the mean of Y across all tumors\n",
    "average_Y = np.mean(Y, axis=1)\n",
    "\n",
    "# Plot the average of y-values\n",
    "plt.scatter(X, average_Y, label='Average Tumor')\n",
    "\n",
    "# Plot the linear regression equation\n",
    "x_values = np.linspace(X.min(), X.max(), 100)\n",
    "y_values = average_intercept + average_coef * x_values\n",
    "plt.plot(x_values, y_values, label='Linear regression')\n",
    "\n",
    "# Add a legend, labels, and title\n",
    "plt.legend()\n",
    "plt.ylabel('Tumor Size (mm^3)')\n",
    "plt.xlabel('Days After Injection')\n",
    "plt.title('Linear Regression Model for Tumor 2 to 5')\n",
    "plt.xticks([10, 12, 17, 20, 24, 28])\n",
    "\n",
    "# Show the plot\n",
    "plt.show()\n",
    "\n",
    "\n",
    "print(f'Linear Regression Equation: Y = {average_intercept:.2f} + {average_coef:.2f}*X')\n",
    "print(f'MSE: {mse:.2f}')\n",
    "print(f'R^2: {r2:.2f}')\n",
    "print(f'MRSE: {mrse:.2f}')\n"
   ]
  },
  {
   "cell_type": "code",
   "execution_count": 13,
   "metadata": {},
   "outputs": [
    {
     "data": {
      "application/vnd.plotly.v1+json": {
       "config": {
        "plotlyServerURL": "https://plot.ly"
       },
       "data": [
        {
         "fill": "tonexty",
         "fillcolor": "rgba(0,128,128,0.2)",
         "mode": "lines",
         "name": "Mean",
         "type": "scatter",
         "x": [
          10,
          12,
          17,
          20,
          24,
          28
         ],
         "y": [
          26.732,
          39.918,
          134.73,
          174.348,
          334.8,
          457.52200000000005
         ]
        },
        {
         "fill": "tonexty",
         "fillcolor": "rgba(0,128,128,0.2)",
         "mode": "lines",
         "name": "Mean + Std. Dev.",
         "type": "scatter",
         "x": [
          10,
          12,
          17,
          20,
          24,
          28
         ],
         "y": [
          39.51430495646227,
          62.60686775491452,
          215.80324682039077,
          294.4882246127416,
          521.5608476099849,
          699.3630200317557
         ]
        },
        {
         "fill": "tonexty",
         "fillcolor": "rgba(0,128,128,0.2)",
         "mode": "lines",
         "name": "Mean - Std. Dev.",
         "type": "scatter",
         "x": [
          10,
          12,
          17,
          20,
          24,
          28
         ],
         "y": [
          13.949695043537726,
          17.229132245085477,
          53.656753179609225,
          54.20777538725842,
          148.03915239001512,
          215.68097996824446
         ]
        },
        {
         "mode": "lines",
         "name": "Linear regression equation",
         "type": "scatter",
         "x": [
          10,
          10.181818181818182,
          10.363636363636363,
          10.545454545454545,
          10.727272727272727,
          10.90909090909091,
          11.09090909090909,
          11.272727272727273,
          11.454545454545455,
          11.636363636363637,
          11.818181818181818,
          12,
          12.181818181818182,
          12.363636363636363,
          12.545454545454545,
          12.727272727272727,
          12.90909090909091,
          13.09090909090909,
          13.272727272727273,
          13.454545454545455,
          13.636363636363637,
          13.818181818181818,
          14,
          14.181818181818182,
          14.363636363636363,
          14.545454545454547,
          14.727272727272727,
          14.90909090909091,
          15.09090909090909,
          15.272727272727273,
          15.454545454545455,
          15.636363636363637,
          15.818181818181818,
          16,
          16.18181818181818,
          16.363636363636363,
          16.545454545454547,
          16.727272727272727,
          16.90909090909091,
          17.09090909090909,
          17.272727272727273,
          17.454545454545453,
          17.636363636363637,
          17.81818181818182,
          18,
          18.18181818181818,
          18.363636363636363,
          18.545454545454547,
          18.727272727272727,
          18.90909090909091,
          19.090909090909093,
          19.272727272727273,
          19.454545454545453,
          19.636363636363637,
          19.81818181818182,
          20,
          20.18181818181818,
          20.363636363636363,
          20.545454545454547,
          20.727272727272727,
          20.90909090909091,
          21.090909090909093,
          21.272727272727273,
          21.454545454545453,
          21.636363636363637,
          21.81818181818182,
          22,
          22.18181818181818,
          22.363636363636363,
          22.545454545454547,
          22.727272727272727,
          22.90909090909091,
          23.090909090909093,
          23.272727272727273,
          23.454545454545453,
          23.636363636363637,
          23.81818181818182,
          24,
          24.18181818181818,
          24.363636363636363,
          24.545454545454547,
          24.727272727272727,
          24.90909090909091,
          25.090909090909093,
          25.272727272727273,
          25.454545454545453,
          25.636363636363637,
          25.81818181818182,
          26,
          26.181818181818183,
          26.363636363636363,
          26.545454545454547,
          26.727272727272727,
          26.90909090909091,
          27.09090909090909,
          27.272727272727273,
          27.454545454545453,
          27.636363636363637,
          27.81818181818182,
          28
         ],
         "y": [
          -14.715093945720241,
          -9.294049155437449,
          -3.8730043651547135,
          1.5480404251280788,
          6.969085215410871,
          12.39013000569372,
          17.811174795976456,
          23.232219586259248,
          28.65326437654204,
          34.07430916682483,
          39.495353957107625,
          44.91639874739036,
          50.33744353767315,
          55.758488327955945,
          61.17953311823874,
          66.60057790852153,
          72.02162269880432,
          77.44266748908706,
          82.8637122793699,
          88.2847570696527,
          93.70580185993549,
          99.12684665021823,
          104.54789144050102,
          109.96893623078381,
          115.3899810210666,
          120.81102581134945,
          126.23207060163213,
          131.65311539191498,
          137.07416018219772,
          142.49520497248056,
          147.91624976276336,
          153.3372945530461,
          158.75833934332888,
          164.17938413361168,
          169.6004289238944,
          175.02147371417726,
          180.44251850446005,
          185.8635632947428,
          191.28460808502564,
          196.70565287530837,
          202.12669766559117,
          207.5477424558739,
          212.96878724615675,
          218.3898320364396,
          223.81087682672234,
          229.23192161700507,
          234.65296640728792,
          240.07401119757077,
          245.4950559878534,
          250.91610077813624,
          256.3371455684191,
          261.7581903587018,
          267.17923514898456,
          272.6002799392674,
          278.02132472955026,
          283.442369519833,
          288.86341431011573,
          294.2844591003986,
          299.7055038906813,
          305.12654868096405,
          310.5475934712469,
          315.96863826152975,
          321.3896830518125,
          326.8107278420952,
          332.23177263237807,
          337.6528174226609,
          343.07386221294365,
          348.4949070032264,
          353.9159517935091,
          359.336996583792,
          364.7580413740747,
          370.17908616435756,
          375.6001309546404,
          381.02117574492314,
          386.4422205352059,
          391.8632653254887,
          397.2843101157716,
          402.7053549060542,
          408.12639969633693,
          413.5474444866198,
          418.96848927690263,
          424.38953406718537,
          429.8105788574682,
          435.23162364775106,
          440.6526684380338,
          446.07371322831654,
          451.4947580185994,
          456.9158028088821,
          462.33684759916486,
          467.7578923894477,
          473.17893717973044,
          478.5999819700133,
          484.021026760296,
          489.4420715505789,
          494.8631163408616,
          500.28416113114446,
          505.7052059214272,
          511.12625071170993,
          516.5472955019927,
          521.9683402922756
         ]
        }
       ],
       "layout": {
        "template": {
         "data": {
          "bar": [
           {
            "error_x": {
             "color": "#2a3f5f"
            },
            "error_y": {
             "color": "#2a3f5f"
            },
            "marker": {
             "line": {
              "color": "#E5ECF6",
              "width": 0.5
             },
             "pattern": {
              "fillmode": "overlay",
              "size": 10,
              "solidity": 0.2
             }
            },
            "type": "bar"
           }
          ],
          "barpolar": [
           {
            "marker": {
             "line": {
              "color": "#E5ECF6",
              "width": 0.5
             },
             "pattern": {
              "fillmode": "overlay",
              "size": 10,
              "solidity": 0.2
             }
            },
            "type": "barpolar"
           }
          ],
          "carpet": [
           {
            "aaxis": {
             "endlinecolor": "#2a3f5f",
             "gridcolor": "white",
             "linecolor": "white",
             "minorgridcolor": "white",
             "startlinecolor": "#2a3f5f"
            },
            "baxis": {
             "endlinecolor": "#2a3f5f",
             "gridcolor": "white",
             "linecolor": "white",
             "minorgridcolor": "white",
             "startlinecolor": "#2a3f5f"
            },
            "type": "carpet"
           }
          ],
          "choropleth": [
           {
            "colorbar": {
             "outlinewidth": 0,
             "ticks": ""
            },
            "type": "choropleth"
           }
          ],
          "contour": [
           {
            "colorbar": {
             "outlinewidth": 0,
             "ticks": ""
            },
            "colorscale": [
             [
              0,
              "#0d0887"
             ],
             [
              0.1111111111111111,
              "#46039f"
             ],
             [
              0.2222222222222222,
              "#7201a8"
             ],
             [
              0.3333333333333333,
              "#9c179e"
             ],
             [
              0.4444444444444444,
              "#bd3786"
             ],
             [
              0.5555555555555556,
              "#d8576b"
             ],
             [
              0.6666666666666666,
              "#ed7953"
             ],
             [
              0.7777777777777778,
              "#fb9f3a"
             ],
             [
              0.8888888888888888,
              "#fdca26"
             ],
             [
              1,
              "#f0f921"
             ]
            ],
            "type": "contour"
           }
          ],
          "contourcarpet": [
           {
            "colorbar": {
             "outlinewidth": 0,
             "ticks": ""
            },
            "type": "contourcarpet"
           }
          ],
          "heatmap": [
           {
            "colorbar": {
             "outlinewidth": 0,
             "ticks": ""
            },
            "colorscale": [
             [
              0,
              "#0d0887"
             ],
             [
              0.1111111111111111,
              "#46039f"
             ],
             [
              0.2222222222222222,
              "#7201a8"
             ],
             [
              0.3333333333333333,
              "#9c179e"
             ],
             [
              0.4444444444444444,
              "#bd3786"
             ],
             [
              0.5555555555555556,
              "#d8576b"
             ],
             [
              0.6666666666666666,
              "#ed7953"
             ],
             [
              0.7777777777777778,
              "#fb9f3a"
             ],
             [
              0.8888888888888888,
              "#fdca26"
             ],
             [
              1,
              "#f0f921"
             ]
            ],
            "type": "heatmap"
           }
          ],
          "heatmapgl": [
           {
            "colorbar": {
             "outlinewidth": 0,
             "ticks": ""
            },
            "colorscale": [
             [
              0,
              "#0d0887"
             ],
             [
              0.1111111111111111,
              "#46039f"
             ],
             [
              0.2222222222222222,
              "#7201a8"
             ],
             [
              0.3333333333333333,
              "#9c179e"
             ],
             [
              0.4444444444444444,
              "#bd3786"
             ],
             [
              0.5555555555555556,
              "#d8576b"
             ],
             [
              0.6666666666666666,
              "#ed7953"
             ],
             [
              0.7777777777777778,
              "#fb9f3a"
             ],
             [
              0.8888888888888888,
              "#fdca26"
             ],
             [
              1,
              "#f0f921"
             ]
            ],
            "type": "heatmapgl"
           }
          ],
          "histogram": [
           {
            "marker": {
             "pattern": {
              "fillmode": "overlay",
              "size": 10,
              "solidity": 0.2
             }
            },
            "type": "histogram"
           }
          ],
          "histogram2d": [
           {
            "colorbar": {
             "outlinewidth": 0,
             "ticks": ""
            },
            "colorscale": [
             [
              0,
              "#0d0887"
             ],
             [
              0.1111111111111111,
              "#46039f"
             ],
             [
              0.2222222222222222,
              "#7201a8"
             ],
             [
              0.3333333333333333,
              "#9c179e"
             ],
             [
              0.4444444444444444,
              "#bd3786"
             ],
             [
              0.5555555555555556,
              "#d8576b"
             ],
             [
              0.6666666666666666,
              "#ed7953"
             ],
             [
              0.7777777777777778,
              "#fb9f3a"
             ],
             [
              0.8888888888888888,
              "#fdca26"
             ],
             [
              1,
              "#f0f921"
             ]
            ],
            "type": "histogram2d"
           }
          ],
          "histogram2dcontour": [
           {
            "colorbar": {
             "outlinewidth": 0,
             "ticks": ""
            },
            "colorscale": [
             [
              0,
              "#0d0887"
             ],
             [
              0.1111111111111111,
              "#46039f"
             ],
             [
              0.2222222222222222,
              "#7201a8"
             ],
             [
              0.3333333333333333,
              "#9c179e"
             ],
             [
              0.4444444444444444,
              "#bd3786"
             ],
             [
              0.5555555555555556,
              "#d8576b"
             ],
             [
              0.6666666666666666,
              "#ed7953"
             ],
             [
              0.7777777777777778,
              "#fb9f3a"
             ],
             [
              0.8888888888888888,
              "#fdca26"
             ],
             [
              1,
              "#f0f921"
             ]
            ],
            "type": "histogram2dcontour"
           }
          ],
          "mesh3d": [
           {
            "colorbar": {
             "outlinewidth": 0,
             "ticks": ""
            },
            "type": "mesh3d"
           }
          ],
          "parcoords": [
           {
            "line": {
             "colorbar": {
              "outlinewidth": 0,
              "ticks": ""
             }
            },
            "type": "parcoords"
           }
          ],
          "pie": [
           {
            "automargin": true,
            "type": "pie"
           }
          ],
          "scatter": [
           {
            "fillpattern": {
             "fillmode": "overlay",
             "size": 10,
             "solidity": 0.2
            },
            "type": "scatter"
           }
          ],
          "scatter3d": [
           {
            "line": {
             "colorbar": {
              "outlinewidth": 0,
              "ticks": ""
             }
            },
            "marker": {
             "colorbar": {
              "outlinewidth": 0,
              "ticks": ""
             }
            },
            "type": "scatter3d"
           }
          ],
          "scattercarpet": [
           {
            "marker": {
             "colorbar": {
              "outlinewidth": 0,
              "ticks": ""
             }
            },
            "type": "scattercarpet"
           }
          ],
          "scattergeo": [
           {
            "marker": {
             "colorbar": {
              "outlinewidth": 0,
              "ticks": ""
             }
            },
            "type": "scattergeo"
           }
          ],
          "scattergl": [
           {
            "marker": {
             "colorbar": {
              "outlinewidth": 0,
              "ticks": ""
             }
            },
            "type": "scattergl"
           }
          ],
          "scattermapbox": [
           {
            "marker": {
             "colorbar": {
              "outlinewidth": 0,
              "ticks": ""
             }
            },
            "type": "scattermapbox"
           }
          ],
          "scatterpolar": [
           {
            "marker": {
             "colorbar": {
              "outlinewidth": 0,
              "ticks": ""
             }
            },
            "type": "scatterpolar"
           }
          ],
          "scatterpolargl": [
           {
            "marker": {
             "colorbar": {
              "outlinewidth": 0,
              "ticks": ""
             }
            },
            "type": "scatterpolargl"
           }
          ],
          "scatterternary": [
           {
            "marker": {
             "colorbar": {
              "outlinewidth": 0,
              "ticks": ""
             }
            },
            "type": "scatterternary"
           }
          ],
          "surface": [
           {
            "colorbar": {
             "outlinewidth": 0,
             "ticks": ""
            },
            "colorscale": [
             [
              0,
              "#0d0887"
             ],
             [
              0.1111111111111111,
              "#46039f"
             ],
             [
              0.2222222222222222,
              "#7201a8"
             ],
             [
              0.3333333333333333,
              "#9c179e"
             ],
             [
              0.4444444444444444,
              "#bd3786"
             ],
             [
              0.5555555555555556,
              "#d8576b"
             ],
             [
              0.6666666666666666,
              "#ed7953"
             ],
             [
              0.7777777777777778,
              "#fb9f3a"
             ],
             [
              0.8888888888888888,
              "#fdca26"
             ],
             [
              1,
              "#f0f921"
             ]
            ],
            "type": "surface"
           }
          ],
          "table": [
           {
            "cells": {
             "fill": {
              "color": "#EBF0F8"
             },
             "line": {
              "color": "white"
             }
            },
            "header": {
             "fill": {
              "color": "#C8D4E3"
             },
             "line": {
              "color": "white"
             }
            },
            "type": "table"
           }
          ]
         },
         "layout": {
          "annotationdefaults": {
           "arrowcolor": "#2a3f5f",
           "arrowhead": 0,
           "arrowwidth": 1
          },
          "autotypenumbers": "strict",
          "coloraxis": {
           "colorbar": {
            "outlinewidth": 0,
            "ticks": ""
           }
          },
          "colorscale": {
           "diverging": [
            [
             0,
             "#8e0152"
            ],
            [
             0.1,
             "#c51b7d"
            ],
            [
             0.2,
             "#de77ae"
            ],
            [
             0.3,
             "#f1b6da"
            ],
            [
             0.4,
             "#fde0ef"
            ],
            [
             0.5,
             "#f7f7f7"
            ],
            [
             0.6,
             "#e6f5d0"
            ],
            [
             0.7,
             "#b8e186"
            ],
            [
             0.8,
             "#7fbc41"
            ],
            [
             0.9,
             "#4d9221"
            ],
            [
             1,
             "#276419"
            ]
           ],
           "sequential": [
            [
             0,
             "#0d0887"
            ],
            [
             0.1111111111111111,
             "#46039f"
            ],
            [
             0.2222222222222222,
             "#7201a8"
            ],
            [
             0.3333333333333333,
             "#9c179e"
            ],
            [
             0.4444444444444444,
             "#bd3786"
            ],
            [
             0.5555555555555556,
             "#d8576b"
            ],
            [
             0.6666666666666666,
             "#ed7953"
            ],
            [
             0.7777777777777778,
             "#fb9f3a"
            ],
            [
             0.8888888888888888,
             "#fdca26"
            ],
            [
             1,
             "#f0f921"
            ]
           ],
           "sequentialminus": [
            [
             0,
             "#0d0887"
            ],
            [
             0.1111111111111111,
             "#46039f"
            ],
            [
             0.2222222222222222,
             "#7201a8"
            ],
            [
             0.3333333333333333,
             "#9c179e"
            ],
            [
             0.4444444444444444,
             "#bd3786"
            ],
            [
             0.5555555555555556,
             "#d8576b"
            ],
            [
             0.6666666666666666,
             "#ed7953"
            ],
            [
             0.7777777777777778,
             "#fb9f3a"
            ],
            [
             0.8888888888888888,
             "#fdca26"
            ],
            [
             1,
             "#f0f921"
            ]
           ]
          },
          "colorway": [
           "#636efa",
           "#EF553B",
           "#00cc96",
           "#ab63fa",
           "#FFA15A",
           "#19d3f3",
           "#FF6692",
           "#B6E880",
           "#FF97FF",
           "#FECB52"
          ],
          "font": {
           "color": "#2a3f5f"
          },
          "geo": {
           "bgcolor": "white",
           "lakecolor": "white",
           "landcolor": "#E5ECF6",
           "showlakes": true,
           "showland": true,
           "subunitcolor": "white"
          },
          "hoverlabel": {
           "align": "left"
          },
          "hovermode": "closest",
          "mapbox": {
           "style": "light"
          },
          "paper_bgcolor": "white",
          "plot_bgcolor": "#E5ECF6",
          "polar": {
           "angularaxis": {
            "gridcolor": "white",
            "linecolor": "white",
            "ticks": ""
           },
           "bgcolor": "#E5ECF6",
           "radialaxis": {
            "gridcolor": "white",
            "linecolor": "white",
            "ticks": ""
           }
          },
          "scene": {
           "xaxis": {
            "backgroundcolor": "#E5ECF6",
            "gridcolor": "white",
            "gridwidth": 2,
            "linecolor": "white",
            "showbackground": true,
            "ticks": "",
            "zerolinecolor": "white"
           },
           "yaxis": {
            "backgroundcolor": "#E5ECF6",
            "gridcolor": "white",
            "gridwidth": 2,
            "linecolor": "white",
            "showbackground": true,
            "ticks": "",
            "zerolinecolor": "white"
           },
           "zaxis": {
            "backgroundcolor": "#E5ECF6",
            "gridcolor": "white",
            "gridwidth": 2,
            "linecolor": "white",
            "showbackground": true,
            "ticks": "",
            "zerolinecolor": "white"
           }
          },
          "shapedefaults": {
           "line": {
            "color": "#2a3f5f"
           }
          },
          "ternary": {
           "aaxis": {
            "gridcolor": "white",
            "linecolor": "white",
            "ticks": ""
           },
           "baxis": {
            "gridcolor": "white",
            "linecolor": "white",
            "ticks": ""
           },
           "bgcolor": "#E5ECF6",
           "caxis": {
            "gridcolor": "white",
            "linecolor": "white",
            "ticks": ""
           }
          },
          "title": {
           "x": 0.05
          },
          "xaxis": {
           "automargin": true,
           "gridcolor": "white",
           "linecolor": "white",
           "ticks": "",
           "title": {
            "standoff": 15
           },
           "zerolinecolor": "white",
           "zerolinewidth": 2
          },
          "yaxis": {
           "automargin": true,
           "gridcolor": "white",
           "linecolor": "white",
           "ticks": "",
           "title": {
            "standoff": 15
           },
           "zerolinecolor": "white",
           "zerolinewidth": 2
          }
         }
        },
        "title": {
         "text": "U251 Tumor Growth",
         "x": 0.5
        },
        "xaxis": {
         "ticktext": [
          10,
          12,
          17,
          20,
          24,
          28
         ],
         "tickvals": [
          10,
          12,
          17,
          20,
          24,
          28
         ],
         "title": {
          "text": "Days Afer Injection"
         }
        },
        "yaxis": {
         "range": [
          0,
          1000
         ],
         "title": {
          "text": "Tumor Size (mm^3)"
         }
        }
       }
      }
     },
     "metadata": {},
     "output_type": "display_data"
    },
    {
     "name": "stdout",
     "output_type": "stream",
     "text": [
      "Linear Regression Equation: Y = -312.87 + 29.82*X\n",
      "R^2: 0.93\n",
      "MSE: 2575.29\n",
      "MRSE: 0.21\n"
     ]
    }
   ],
   "source": [
    "# In this chunk of code, we will again use go.Figure() to create a figure and add the standard deviation. In addition the linear regression line will also be added to the figure.\n",
    "# Create a figure\n",
    "fig = go.Figure()\n",
    "fig.add_trace(go.Scatter(\n",
    "    x=df_U251_tumor_2_5_outlier_removed['days_after_injection'],\n",
    "    y=df_U251_tumor_2_5_outlier_removed.mean(axis=1),\n",
    "    mode='lines',\n",
    "    name='Mean',\n",
    "    fill='tonexty',\n",
    "    fillcolor='rgba(0,128,128,0.2)'\n",
    "))\n",
    "fig.add_trace(go.Scatter(\n",
    "    x=df_U251_tumor_2_5_outlier_removed['days_after_injection'],\n",
    "    y=df_U251_tumor_2_5_outlier_removed.mean(axis=1) + df_U251_tumor_2_5_outlier_removed.std(axis=1),\n",
    "    mode='lines',\n",
    "    name='Mean + Std. Dev.',\n",
    "    fill='tonexty',\n",
    "    fillcolor='rgba(0,128,128,0.2)'\n",
    ")) # this will create a trace for the upper bound\n",
    "fig.add_trace(go.Scatter(\n",
    "    x=df_U251_tumor_2_5_outlier_removed['days_after_injection'],\n",
    "    y=df_U251_tumor_2_5_outlier_removed.mean(axis=1) - df_U251_tumor_2_5_outlier_removed.std(axis=1),\n",
    "    mode='lines',\n",
    "    name='Mean - Std. Dev.',\n",
    "    fill='tonexty',\n",
    "    fillcolor='rgba(0,128,128,0.2)'\n",
    ")) # This will create a trace for the lower bound\n",
    "\n",
    "# Plot the linear regression equation\n",
    "x_values = np.linspace(X.min(), X.max(), 100)\n",
    "y_values = average_intercept + average_coef * x_values\n",
    "fig.add_trace(go.Scatter(\n",
    "    x=x_values,\n",
    "    y=y_values,\n",
    "    mode='lines',\n",
    "    name='Linear regression equation'\n",
    "))\n",
    "\n",
    "fig.update_layout(\n",
    "    title='U251 Tumor Growth',\n",
    "    title_x = 0.5,\n",
    "    xaxis_title='Days Afer Injection',\n",
    "    yaxis_title='Tumor Size (mm^3)',\n",
    "    yaxis_range=[0, 1000] # This set the y-axis range to 0 to 1000\n",
    ")\n",
    "fig.update_xaxes(\n",
    "    tickvals=[10, 12, 17, 20, 24, 28],\n",
    "    ticktext=[10, 12, 17, 20, 24, 28]\n",
    ")\n",
    "fig.show()\n",
    "\n",
    "print(f'Linear Regression Equation: Y = {average_intercept:.2f} + {average_coef:.2f}*X')\n",
    "print(f'R^2: {r2:.2f}')\n",
    "print(f'MSE: {mse:.2f}')\n",
    "print(f'MRSE: {mrse:.2f}')"
   ]
  },
  {
   "cell_type": "markdown",
   "metadata": {},
   "source": [
    "### Now, we calculate after how many days the tumor will reach 300 mm^3 from tumors 2 to 5, after removing outliers."
   ]
  },
  {
   "cell_type": "code",
   "execution_count": 14,
   "metadata": {},
   "outputs": [
    {
     "name": "stdout",
     "output_type": "stream",
     "text": [
      "The value of a is: 29.82\n",
      "The value of b is: -312.87\n",
      "The tumors will reach 300 mm^3 in about: 21 days\n"
     ]
    }
   ],
   "source": [
    "# the equation line is y = ax + b\n",
    "# a is equal to the slope\n",
    "# b is equal to the y-intercept\n",
    "# y = 300 mm^3\n",
    "# So, to calculate the equation line:\n",
    "a = average_coef\n",
    "print(f'The value of a is: {a:.2f}')\n",
    "\n",
    "b = average_intercept\n",
    "print(f'The value of b is: {b:.2f}')\n",
    "\n",
    "y = 300\n",
    "\n",
    "# So, replacing this values to the line equation:\n",
    "x_grow = (300-b)/a\n",
    "print(f'The tumors will reach 300 mm^3 in about: {x_grow:.0f}', 'days')"
   ]
  },
  {
   "cell_type": "markdown",
   "metadata": {},
   "source": [
    "##### Finally, let's see how the regression lines look for each animal with tumor."
   ]
  },
  {
   "cell_type": "code",
   "execution_count": 15,
   "metadata": {},
   "outputs": [
    {
     "data": {
      "image/png": "[encoded data removed]",
      "text/plain": [
       "<Figure size 1000x600 with 1 Axes>"
      ]
     },
     "metadata": {},
     "output_type": "display_data"
    },
    {
     "name": "stdout",
     "output_type": "stream",
     "text": [
      "Linear regression equation: y2 = -305.63 + 30.98*X\n",
      "Linear regression equation: y3 = -310.23 + 32.18*X\n",
      "Linear regression equation: y4 = -309.76 + 27.74*X\n",
      "Linear regression equation: y5 = -325.87 + 28.35*X\n"
     ]
    }
   ],
   "source": [
    "# Now, we need to create the X and y for the linear regression model. Since there are more than one tumor, each tumor will be assigned to a different y\n",
    "X = df_U251_tumor_2_5_outlier_removed['days_after_injection']\n",
    "y2= np.array(df_U251_tumor_2_5_outlier_removed['tumor_2'])\n",
    "y3= np.array(df_U251_tumor_2_5_outlier_removed['tumor_3'])\n",
    "y4= np.array(df_U251_tumor_2_5_outlier_removed['tumor_4'])\n",
    "y5= np.array(df_U251_tumor_2_5_outlier_removed['tumor_5'])\n",
    "\n",
    "model_y2 = LinearRegression() # create the linear regression model for tumor_2\n",
    "model_y2.fit(X.values.reshape(-1, 1), y2) # fit the linear regression model for tumor_2\n",
    "\n",
    "model_y3 = LinearRegression() # create the linear regression model for tumor_3\n",
    "model_y3.fit(X.values.reshape(-1, 1), y3) # fit the linear regression model for tumor_3\n",
    "\n",
    "model_y4 = LinearRegression() # create the linear regression model for tumor_4\n",
    "model_y4.fit(X.values.reshape(-1, 1), y4) # fit the linear regression model for tumor_4\n",
    "\n",
    "model_y5 = LinearRegression() # create the linear regression model for tumor_5\n",
    "model_y5.fit(X.values.reshape(-1, 1), y5) # fit the linear regression model for tumor_5\n",
    "\n",
    "predictions_y2 = model_y2.predict(X.values.reshape(-1, 1)) # predict the y2 values\n",
    "predictions_y3 = model_y3.predict(X.values.reshape(-1, 1)) # predict the y3 values\n",
    "predictions_y4 = model_y4.predict(X.values.reshape(-1, 1)) # predict the y4 values\n",
    "predictions_y5 = model_y5.predict(X.values.reshape(-1, 1)) # predict the y5 values\n",
    "\n",
    "# Finally, we plot the data points for each tumor, assigning a different color and marker\n",
    "plt.figure(figsize=(10, 6))\n",
    "plt.scatter(X, y2, color='r', label='tumor_2', marker='o')\n",
    "plt.scatter(X, y3, color='g', label='tumor_3', marker='s')\n",
    "plt.scatter(X, y4, color='b', label='tumor_4', marker='v')\n",
    "plt.scatter(X, y5, color='c', label='tumor_5', marker='*')\n",
    "\n",
    "# Here, we assign a different color and linestyle for each linear regression model derived from tumor_2 to tumor_5\n",
    "plt.plot(X, predictions_y2, color='r', linestyle='-', label='Linear Regression for tumor_2')\n",
    "plt.plot(X, predictions_y3, color='g', linestyle='--', label='Linear Regression for tumor_3')\n",
    "plt.plot(X, predictions_y4, color='b', linestyle='-.', label='Linear Regression for tumor_4')\n",
    "plt.plot(X, predictions_y5, color='c', linestyle=':', label='Linear Regression for tumor_5')\n",
    "\n",
    "plt.xlabel('Days After Injection')\n",
    "plt.ylabel('Tumor Size (mm^3)')\n",
    "plt.title('U251 Tumor Growth')\n",
    "plt.legend()\n",
    "plt.xticks([10, 12, 17, 20, 24, 28])\n",
    "plt.show()\n",
    "\n",
    "print(f'Linear regression equation: y2 = {model_y2.intercept_:.2f} + {model_y2.coef_[0]:.2f}*X') # print the linear regression equation\n",
    "print(f'Linear regression equation: y3 = {model_y3.intercept_:.2f} + {model_y3.coef_[0]:.2f}*X') # print the linear regression equation\n",
    "print(f'Linear regression equation: y4 = {model_y4.intercept_:.2f} + {model_y4.coef_[0]:.2f}*X') # print the linear regression equation\n",
    "print(f'Linear regression equation: y5 = {model_y5.intercept_:.2f} + {model_y5.coef_[0]:.2f}*X') # print the linear regression equation"
   ]
  },
  {
   "cell_type": "markdown",
   "metadata": {},
   "source": [
    "## Now we will only exclude the outliers, replace the NaN entries by the mean of each row and calculate the number of days to reach 300 mm^3"
   ]
  },
  {
   "cell_type": "code",
   "execution_count": 16,
   "metadata": {},
   "outputs": [
    {
     "name": "stdout",
     "output_type": "stream",
     "text": [
      "   days_after_injection  tumor_1  tumor_2  tumor_3  tumor_4  tumor_5\n",
      "0                    10      NaN    39.38    35.50    32.32      NaN\n",
      "1                    12    82.34    56.24    69.16    29.97    32.22\n",
      "2                    17   243.80   168.57   239.31   132.60   116.17\n",
      "3                    20   425.60   305.81   284.59   112.50   148.84\n",
      "4                    24      NaN   480.20   472.38   383.82   313.60\n",
      "5                    28      NaN   555.13   609.75   529.83      NaN\n"
     ]
    }
   ],
   "source": [
    "# Since we had checked for outliers before, we call our dataset\n",
    "print(df_U251_outlier)"
   ]
  },
  {
   "cell_type": "markdown",
   "metadata": {},
   "source": [
    "##### Now we replace the NaN entries with average for each row"
   ]
  },
  {
   "cell_type": "code",
   "execution_count": 17,
   "metadata": {},
   "outputs": [
    {
     "name": "stdout",
     "output_type": "stream",
     "text": [
      "   days_after_injection  tumor_1  tumor_2  tumor_3  tumor_4  tumor_5\n",
      "0                    10    53.99    39.38    35.50    32.32    53.99\n",
      "1                    12    82.34    56.24    69.16    29.97    32.22\n",
      "2                    17   243.80   168.57   239.31   132.60   116.17\n",
      "3                    20   425.60   305.81   284.59   112.50   148.84\n",
      "4                    24   412.50   480.20   472.38   383.82   313.60\n",
      "5                    28   564.90   555.13   609.75   529.83   564.90\n"
     ]
    }
   ],
   "source": [
    "def replace_nan(df):\n",
    "    # Calculate the row averages for columns 1 to 5, excluding the first-row\n",
    "    row_avgs = df.iloc[1:, 1:6].mean(axis=1, skipna=True)\n",
    "\n",
    "    # Replace NaN values with row averages, excluding the first row and column\n",
    "    df.iloc[1:, 1:6] = df.iloc[1:, 1:6].apply(lambda x: x.fillna(x.mean()), axis=1)\n",
    "\n",
    "    # Round the values to 2 decimal places\n",
    "    df.iloc[:, 1:6] = df.iloc[:, 1:6].apply(lambda x: x.apply(lambda y: round(y, 2) if not np.isnan(y) else y), axis=1)\n",
    "\n",
    "    return df\n",
    "\n",
    "df_outlier_replaced = replace_nan(df_U251_outlier)\n",
    "\n",
    "# Replace the NaN values in the first row with the row averages\n",
    "df_outlier_replaced.iloc[0, 1:6] = df_outlier_replaced.iloc[0, 1:6].fillna(df_outlier_replaced.iloc[1, 1:6].mean())\n",
    "\n",
    "# Round the values in the first row to 2 decimal places\n",
    "df_outlier_replaced.iloc[0, 1:6] = df_outlier_replaced.iloc[0, 1:6].apply(lambda x: round(x, 2) if not np.isnan(x) else x)\n",
    "\n",
    "print(df_outlier_replaced)"
   ]
  },
  {
   "cell_type": "markdown",
   "metadata": {},
   "source": [
    "##### Now we calculate the linear regression equation"
   ]
  },
  {
   "cell_type": "code",
   "execution_count": 18,
   "metadata": {},
   "outputs": [
    {
     "name": "stdout",
     "output_type": "stream",
     "text": [
      "Linear Regression Equation: Y = -291.49 + 29.36*X\n",
      "\n",
      "Please see the predictions below:\n",
      "[[ 51.81072373   4.20033403  11.57665971 -32.31846903 -24.7422199 ]\n",
      " [109.54663187  66.16613779  75.93862213  23.16979819  29.30379262]\n",
      " [253.88640223 221.08064718 236.84352818 161.89046625 164.41882394]\n",
      " [340.49026444 314.02935282 333.38647182 245.12286708 245.48784273]\n",
      " [455.96208072 437.96096033 462.11039666 356.09940153 353.57986778]\n",
      " [571.43389701 561.89256785 590.8343215  467.07593598 461.67189283]]\n",
      "\n",
      "Please see the coefficients below:\n",
      "[[28.86795407]\n",
      " [30.98290188]\n",
      " [32.18098121]\n",
      " [27.74413361]\n",
      " [27.02300626]]\n",
      "\n",
      "Please see the intercept below:\n",
      "[-236.86881698 -305.62868476 -310.2331524  -309.75980515 -294.97228253]\n",
      "\n",
      "Please see the MSE, R^2 and MRSE below:\n",
      "MSE: 2566.32 The Mean Square Error (MSE) measures the average squared difference between\n",
      "      the actual and predicted values in the model. Lower MSE vaules indicate better model performance\n",
      "R^2: 0.93 The R-squared value measures the proportion of the variance in the dependent \n",
      "      variable that is predictable from the independent variable. Higher R-squared vaules indicate \n",
      "      better model performance\n",
      "MRSE: 0.20 The Mean Relative Square Error (MRSE) is a variation of MSE that accounts \n",
      "      for the scale of the data by normalizing the squared error using the mean of the actual values. \n",
      "      It is useful when the scale of the target variable varies widely across samples. \n",
      "      Like MSE, lower MSRE values indicate better model performance\n"
     ]
    }
   ],
   "source": [
    "\n",
    "# Assign for X as X1 and for y as y1_1. The _1 is to distinguish from the previous linear regression model from tumor_2 to tumor_5\n",
    "X1 = df_outlier_replaced['days_after_injection'].values.reshape(-1, 1) # create the X array\n",
    "y1_1= np.array(df_outlier_replaced['tumor_1'])\n",
    "y2_1= np.array(df_outlier_replaced['tumor_2'])\n",
    "y3_1= np.array(df_outlier_replaced['tumor_3'])\n",
    "y4_1= np.array(df_outlier_replaced['tumor_4'])\n",
    "y5_1= np.array(df_outlier_replaced['tumor_5'])\n",
    "\n",
    "Y1 = np.vstack([y1_1, y2_1, y3_1, y4_1, y5_1]).T # Stack the y arrays vertically into one single Y1\n",
    "\n",
    "model1 = LinearRegression().fit(X1, Y1) # create the linear regression model\n",
    "\n",
    "predictions1 = model1.predict(X1) # predict the y values\n",
    "y_pred1 = model1.predict(X1)\n",
    "mse1 = mean_squared_error(Y1, y_pred1)\n",
    "r2_1 = r2_score(Y1, y_pred1)\n",
    "mrse1 = np.sqrt(mse1)/np.mean(Y1)\n",
    "\n",
    "average_coef_1 = np.mean([model1.coef_]) # calculate the average coefficient of the linear regression equation. Omit [0][0] for gettin the right number\n",
    "average_intercept_1 = np.mean([model1.intercept_]) # calculate the average intercept of the linear regression equation\n",
    "\n",
    "print(f'Linear Regression Equation: Y = {average_intercept_1:.2f} + {average_coef_1:.2f}*X') # print the linear regression equation. This equation takes in consideration all tumors tumor based on the averages of intercept and coeficient.\n",
    "print() # To print a space between the two print statements\n",
    "print('Please see the predictions below:')\n",
    "print(predictions1) # print the predicted y values\n",
    "\n",
    "print() # To print a space between the two print statements\n",
    "print('Please see the coefficients below:')\n",
    "print(model1.coef_) # print the coefficients of the linear regression equation\n",
    "print() # to print a space between the two print statements\n",
    "print('Please see the intercept below:')\n",
    "print(model1.intercept_) # print the intercept of the linear regression equation\n",
    "\n",
    "print() # to print a space between the two print statements\n",
    "print('Please see the MSE, R^2 and MRSE below:')\n",
    "print(f'MSE: {mse1:.2f}', '''The Mean Square Error (MSE) measures the average squared difference between\n",
    "      the actual and predicted values in the model. Lower MSE vaules indicate better model performance''') # print the mean squared error of the linear regression model\n",
    "print(f'R^2: {r2_1:.2f}', '''The R-squared value measures the proportion of the variance in the dependent \n",
    "      variable that is predictable from the independent variable. Higher R-squared vaules indicate \n",
    "      better model performance''') # print the R-squared value of the linear regression model\n",
    "print(f'MRSE: {mrse1:.2f}', '''The Mean Relative Square Error (MRSE) is a variation of MSE that accounts \n",
    "      for the scale of the data by normalizing the squared error using the mean of the actual values. \n",
    "      It is useful when the scale of the target variable varies widely across samples. \n",
    "      Like MSE, lower MSRE values indicate better model performance''') # print the mean root squared error of the linear regression model"
   ]
  },
  {
   "cell_type": "code",
   "execution_count": 19,
   "metadata": {},
   "outputs": [
    {
     "data": {
      "image/png": "[encoded data removed]",
      "text/plain": [
       "<Figure size 640x480 with 1 Axes>"
      ]
     },
     "metadata": {},
     "output_type": "display_data"
    },
    {
     "data": {
      "image/png": "[encoded data removed]",
      "text/plain": [
       "<Figure size 640x480 with 1 Axes>"
      ]
     },
     "metadata": {},
     "output_type": "display_data"
    },
    {
     "name": "stdout",
     "output_type": "stream",
     "text": [
      "Linear Regression Equation: Y = -291.49 + 29.36*X\n",
      "MSE: 2566.32\n",
      "R^2: 0.93\n",
      "MRSE: 0.20\n"
     ]
    }
   ],
   "source": [
    "# Plot each set of y1-values separately\n",
    "for i in range(Y1.shape[1]):\n",
    "    plt.scatter(X1, Y1[:, i], label=f'Tumor {i+1}')\n",
    "\n",
    "# Plot the linear regression equation\n",
    "x1_values = np.linspace(X1.min(), X1.max(), 100)\n",
    "y1_values = average_intercept_1 + average_coef_1 * x1_values\n",
    "plt.plot(x1_values, y1_values, label='Linear regression')\n",
    "\n",
    "# Add a legend, labels, and title\n",
    "plt.legend()\n",
    "plt.ylabel('Tumor Size (mm^3)')\n",
    "plt.xlabel('Days After Injection')\n",
    "plt.title('Linear Regression Model for Tumor 1 to 5')\n",
    "plt.xticks([10, 12, 17, 20, 24, 28])\n",
    "\n",
    "# Show the plot\n",
    "plt.show()\n",
    "\n",
    "\n",
    "# Calculate the mean of Y2 across all tumors\n",
    "average_Y1 = np.mean(Y1, axis=1)\n",
    "\n",
    "# Plot the average of y-values\n",
    "plt.scatter(X1, average_Y1, label='Average Tumor')\n",
    "\n",
    "# Plot the linear regression equation\n",
    "x1_values = np.linspace(X1.min(), X1.max(), 100)\n",
    "y1_values = average_intercept_1 + average_coef_1 * x1_values\n",
    "plt.plot(x1_values, y1_values, label='Linear regression')\n",
    "\n",
    "# Add a legend, labels, and title\n",
    "plt.legend()\n",
    "plt.ylabel('Tumor Size (mm^3)')\n",
    "plt.xlabel('Days After Injection')\n",
    "plt.title('Linear Regression Model for Tumor 1 to 5')\n",
    "plt.xticks([10, 12, 17, 20, 24, 28])\n",
    "\n",
    "# Show the plot\n",
    "plt.show()\n",
    "\n",
    "\n",
    "print(f'Linear Regression Equation: Y = {average_intercept_1:.2f} + {average_coef_1:.2f}*X')\n",
    "print(f'MSE: {mse1:.2f}')\n",
    "print(f'R^2: {r2_1:.2f}')\n",
    "print(f'MRSE: {mrse1:.2f}')\n"
   ]
  },
  {
   "cell_type": "code",
   "execution_count": 20,
   "metadata": {},
   "outputs": [
    {
     "data": {
      "application/vnd.plotly.v1+json": {
       "config": {
        "plotlyServerURL": "https://plot.ly"
       },
       "data": [
        {
         "fill": "tonexty",
         "fillcolor": "rgba(0,128,128,0.2)",
         "mode": "lines",
         "name": "Mean",
         "type": "scatter",
         "x": [
          10,
          12,
          17,
          20,
          24,
          28
         ],
         "y": [
          37.53,
          46.98833333333334,
          152.90833333333333,
          216.22333333333333,
          347.75,
          475.41833333333335
         ]
        },
        {
         "fill": "tonexty",
         "fillcolor": "rgba(0,128,128,0.2)",
         "mode": "lines",
         "name": "Mean + Std. Dev.",
         "type": "scatter",
         "x": [
          10,
          12,
          17,
          20,
          24,
          28
         ],
         "y": [
          53.866778140135224,
          73.66726615806729,
          238.00244533097197,
          364.77702768883114,
          517.7791338565247,
          696.1247801278632
         ]
        },
        {
         "fill": "tonexty",
         "fillcolor": "rgba(0,128,128,0.2)",
         "mode": "lines",
         "name": "Mean - Std. Dev.",
         "type": "scatter",
         "x": [
          10,
          12,
          17,
          20,
          24,
          28
         ],
         "y": [
          21.193221859864778,
          20.309400508599385,
          67.8142213356947,
          67.66963897783549,
          177.72086614347526,
          254.7118865388034
         ]
        },
        {
         "mode": "lines",
         "name": "Linear regression equation",
         "type": "scatter",
         "x": [
          10,
          10.181818181818182,
          10.363636363636363,
          10.545454545454545,
          10.727272727272727,
          10.90909090909091,
          11.09090909090909,
          11.272727272727273,
          11.454545454545455,
          11.636363636363637,
          11.818181818181818,
          12,
          12.181818181818182,
          12.363636363636363,
          12.545454545454545,
          12.727272727272727,
          12.90909090909091,
          13.09090909090909,
          13.272727272727273,
          13.454545454545455,
          13.636363636363637,
          13.818181818181818,
          14,
          14.181818181818182,
          14.363636363636363,
          14.545454545454547,
          14.727272727272727,
          14.90909090909091,
          15.09090909090909,
          15.272727272727273,
          15.454545454545455,
          15.636363636363637,
          15.818181818181818,
          16,
          16.18181818181818,
          16.363636363636363,
          16.545454545454547,
          16.727272727272727,
          16.90909090909091,
          17.09090909090909,
          17.272727272727273,
          17.454545454545453,
          17.636363636363637,
          17.81818181818182,
          18,
          18.18181818181818,
          18.363636363636363,
          18.545454545454547,
          18.727272727272727,
          18.90909090909091,
          19.090909090909093,
          19.272727272727273,
          19.454545454545453,
          19.636363636363637,
          19.81818181818182,
          20,
          20.18181818181818,
          20.363636363636363,
          20.545454545454547,
          20.727272727272727,
          20.90909090909091,
          21.090909090909093,
          21.272727272727273,
          21.454545454545453,
          21.636363636363637,
          21.81818181818182,
          22,
          22.18181818181818,
          22.363636363636363,
          22.545454545454547,
          22.727272727272727,
          22.90909090909091,
          23.090909090909093,
          23.272727272727273,
          23.454545454545453,
          23.636363636363637,
          23.81818181818182,
          24,
          24.18181818181818,
          24.363636363636363,
          24.545454545454547,
          24.727272727272727,
          24.90909090909091,
          25.090909090909093,
          25.272727272727273,
          25.454545454545453,
          25.636363636363637,
          25.81818181818182,
          26,
          26.181818181818183,
          26.363636363636363,
          26.545454545454547,
          26.727272727272727,
          26.90909090909091,
          27.09090909090909,
          27.272727272727273,
          27.454545454545453,
          27.636363636363637,
          27.81818181818182,
          28
         ],
         "y": [
          2.10540570633259,
          7.443550325804949,
          12.781694945277366,
          18.119839564749725,
          23.457984184222084,
          28.796128803694558,
          34.13427342316686,
          39.47241804263933,
          44.81056266211169,
          50.14870728158405,
          55.48685190105647,
          60.82499652052883,
          66.16314114000119,
          71.5012857594736,
          76.83943037894596,
          82.17757499841832,
          87.5157196178908,
          92.8538642373631,
          98.19200885683557,
          103.53015347630793,
          108.86829809578029,
          114.2064427152527,
          119.54458733472507,
          124.88273195419742,
          130.22087657366984,
          135.55902119314226,
          140.89716581261456,
          146.23531043208703,
          151.57345505155934,
          156.9115996710318,
          162.24974429050417,
          167.58788890997653,
          172.92603352944894,
          178.2641781489213,
          183.6023227683936,
          188.94046738786608,
          194.2786120073385,
          199.6167566268108,
          204.95490124628327,
          210.29304586575557,
          215.63119048522805,
          220.9693351047003,
          226.30747972417277,
          231.64562434364524,
          236.98376896311748,
          242.32191358258984,
          247.66005820206232,
          252.9982028215348,
          258.33634744100704,
          263.6744920604795,
          269.012636679952,
          274.3507812994242,
          279.6889259188966,
          285.02707053836906,
          290.3652151578414,
          295.7033597773138,
          301.04150439678614,
          306.3796490162585,
          311.71779363573097,
          317.05593825520333,
          322.3940828746757,
          327.73222749414816,
          333.0703721136205,
          338.40851673309277,
          343.74666135256524,
          349.0848059720377,
          354.4229505915101,
          359.7610952109823,
          365.0992398304548,
          370.43738444992726,
          375.7755290693995,
          381.113673688872,
          386.45181830834446,
          391.7899629278167,
          397.12810754728906,
          402.46625216676154,
          407.8043967862339,
          413.14254140570625,
          418.4806860251786,
          423.818830644651,
          429.15697526412345,
          434.4951198835958,
          439.83326450306816,
          445.17140912254064,
          450.509553742013,
          455.84769836148524,
          461.1858429809577,
          466.5239876004302,
          471.86213221990243,
          477.2002768393749,
          482.53842145884727,
          487.87656607831974,
          493.214710697792,
          498.55285531726446,
          503.8909999367368,
          509.2291445562092,
          514.5672891756815,
          519.9054337951541,
          525.2435784146264,
          530.5817230340988
         ]
        }
       ],
       "layout": {
        "template": {
         "data": {
          "bar": [
           {
            "error_x": {
             "color": "#2a3f5f"
            },
            "error_y": {
             "color": "#2a3f5f"
            },
            "marker": {
             "line": {
              "color": "#E5ECF6",
              "width": 0.5
             },
             "pattern": {
              "fillmode": "overlay",
              "size": 10,
              "solidity": 0.2
             }
            },
            "type": "bar"
           }
          ],
          "barpolar": [
           {
            "marker": {
             "line": {
              "color": "#E5ECF6",
              "width": 0.5
             },
             "pattern": {
              "fillmode": "overlay",
              "size": 10,
              "solidity": 0.2
             }
            },
            "type": "barpolar"
           }
          ],
          "carpet": [
           {
            "aaxis": {
             "endlinecolor": "#2a3f5f",
             "gridcolor": "white",
             "linecolor": "white",
             "minorgridcolor": "white",
             "startlinecolor": "#2a3f5f"
            },
            "baxis": {
             "endlinecolor": "#2a3f5f",
             "gridcolor": "white",
             "linecolor": "white",
             "minorgridcolor": "white",
             "startlinecolor": "#2a3f5f"
            },
            "type": "carpet"
           }
          ],
          "choropleth": [
           {
            "colorbar": {
             "outlinewidth": 0,
             "ticks": ""
            },
            "type": "choropleth"
           }
          ],
          "contour": [
           {
            "colorbar": {
             "outlinewidth": 0,
             "ticks": ""
            },
            "colorscale": [
             [
              0,
              "#0d0887"
             ],
             [
              0.1111111111111111,
              "#46039f"
             ],
             [
              0.2222222222222222,
              "#7201a8"
             ],
             [
              0.3333333333333333,
              "#9c179e"
             ],
             [
              0.4444444444444444,
              "#bd3786"
             ],
             [
              0.5555555555555556,
              "#d8576b"
             ],
             [
              0.6666666666666666,
              "#ed7953"
             ],
             [
              0.7777777777777778,
              "#fb9f3a"
             ],
             [
              0.8888888888888888,
              "#fdca26"
             ],
             [
              1,
              "#f0f921"
             ]
            ],
            "type": "contour"
           }
          ],
          "contourcarpet": [
           {
            "colorbar": {
             "outlinewidth": 0,
             "ticks": ""
            },
            "type": "contourcarpet"
           }
          ],
          "heatmap": [
           {
            "colorbar": {
             "outlinewidth": 0,
             "ticks": ""
            },
            "colorscale": [
             [
              0,
              "#0d0887"
             ],
             [
              0.1111111111111111,
              "#46039f"
             ],
             [
              0.2222222222222222,
              "#7201a8"
             ],
             [
              0.3333333333333333,
              "#9c179e"
             ],
             [
              0.4444444444444444,
              "#bd3786"
             ],
             [
              0.5555555555555556,
              "#d8576b"
             ],
             [
              0.6666666666666666,
              "#ed7953"
             ],
             [
              0.7777777777777778,
              "#fb9f3a"
             ],
             [
              0.8888888888888888,
              "#fdca26"
             ],
             [
              1,
              "#f0f921"
             ]
            ],
            "type": "heatmap"
           }
          ],
          "heatmapgl": [
           {
            "colorbar": {
             "outlinewidth": 0,
             "ticks": ""
            },
            "colorscale": [
             [
              0,
              "#0d0887"
             ],
             [
              0.1111111111111111,
              "#46039f"
             ],
             [
              0.2222222222222222,
              "#7201a8"
             ],
             [
              0.3333333333333333,
              "#9c179e"
             ],
             [
              0.4444444444444444,
              "#bd3786"
             ],
             [
              0.5555555555555556,
              "#d8576b"
             ],
             [
              0.6666666666666666,
              "#ed7953"
             ],
             [
              0.7777777777777778,
              "#fb9f3a"
             ],
             [
              0.8888888888888888,
              "#fdca26"
             ],
             [
              1,
              "#f0f921"
             ]
            ],
            "type": "heatmapgl"
           }
          ],
          "histogram": [
           {
            "marker": {
             "pattern": {
              "fillmode": "overlay",
              "size": 10,
              "solidity": 0.2
             }
            },
            "type": "histogram"
           }
          ],
          "histogram2d": [
           {
            "colorbar": {
             "outlinewidth": 0,
             "ticks": ""
            },
            "colorscale": [
             [
              0,
              "#0d0887"
             ],
             [
              0.1111111111111111,
              "#46039f"
             ],
             [
              0.2222222222222222,
              "#7201a8"
             ],
             [
              0.3333333333333333,
              "#9c179e"
             ],
             [
              0.4444444444444444,
              "#bd3786"
             ],
             [
              0.5555555555555556,
              "#d8576b"
             ],
             [
              0.6666666666666666,
              "#ed7953"
             ],
             [
              0.7777777777777778,
              "#fb9f3a"
             ],
             [
              0.8888888888888888,
              "#fdca26"
             ],
             [
              1,
              "#f0f921"
             ]
            ],
            "type": "histogram2d"
           }
          ],
          "histogram2dcontour": [
           {
            "colorbar": {
             "outlinewidth": 0,
             "ticks": ""
            },
            "colorscale": [
             [
              0,
              "#0d0887"
             ],
             [
              0.1111111111111111,
              "#46039f"
             ],
             [
              0.2222222222222222,
              "#7201a8"
             ],
             [
              0.3333333333333333,
              "#9c179e"
             ],
             [
              0.4444444444444444,
              "#bd3786"
             ],
             [
              0.5555555555555556,
              "#d8576b"
             ],
             [
              0.6666666666666666,
              "#ed7953"
             ],
             [
              0.7777777777777778,
              "#fb9f3a"
             ],
             [
              0.8888888888888888,
              "#fdca26"
             ],
             [
              1,
              "#f0f921"
             ]
            ],
            "type": "histogram2dcontour"
           }
          ],
          "mesh3d": [
           {
            "colorbar": {
             "outlinewidth": 0,
             "ticks": ""
            },
            "type": "mesh3d"
           }
          ],
          "parcoords": [
           {
            "line": {
             "colorbar": {
              "outlinewidth": 0,
              "ticks": ""
             }
            },
            "type": "parcoords"
           }
          ],
          "pie": [
           {
            "automargin": true,
            "type": "pie"
           }
          ],
          "scatter": [
           {
            "fillpattern": {
             "fillmode": "overlay",
             "size": 10,
             "solidity": 0.2
            },
            "type": "scatter"
           }
          ],
          "scatter3d": [
           {
            "line": {
             "colorbar": {
              "outlinewidth": 0,
              "ticks": ""
             }
            },
            "marker": {
             "colorbar": {
              "outlinewidth": 0,
              "ticks": ""
             }
            },
            "type": "scatter3d"
           }
          ],
          "scattercarpet": [
           {
            "marker": {
             "colorbar": {
              "outlinewidth": 0,
              "ticks": ""
             }
            },
            "type": "scattercarpet"
           }
          ],
          "scattergeo": [
           {
            "marker": {
             "colorbar": {
              "outlinewidth": 0,
              "ticks": ""
             }
            },
            "type": "scattergeo"
           }
          ],
          "scattergl": [
           {
            "marker": {
             "colorbar": {
              "outlinewidth": 0,
              "ticks": ""
             }
            },
            "type": "scattergl"
           }
          ],
          "scattermapbox": [
           {
            "marker": {
             "colorbar": {
              "outlinewidth": 0,
              "ticks": ""
             }
            },
            "type": "scattermapbox"
           }
          ],
          "scatterpolar": [
           {
            "marker": {
             "colorbar": {
              "outlinewidth": 0,
              "ticks": ""
             }
            },
            "type": "scatterpolar"
           }
          ],
          "scatterpolargl": [
           {
            "marker": {
             "colorbar": {
              "outlinewidth": 0,
              "ticks": ""
             }
            },
            "type": "scatterpolargl"
           }
          ],
          "scatterternary": [
           {
            "marker": {
             "colorbar": {
              "outlinewidth": 0,
              "ticks": ""
             }
            },
            "type": "scatterternary"
           }
          ],
          "surface": [
           {
            "colorbar": {
             "outlinewidth": 0,
             "ticks": ""
            },
            "colorscale": [
             [
              0,
              "#0d0887"
             ],
             [
              0.1111111111111111,
              "#46039f"
             ],
             [
              0.2222222222222222,
              "#7201a8"
             ],
             [
              0.3333333333333333,
              "#9c179e"
             ],
             [
              0.4444444444444444,
              "#bd3786"
             ],
             [
              0.5555555555555556,
              "#d8576b"
             ],
             [
              0.6666666666666666,
              "#ed7953"
             ],
             [
              0.7777777777777778,
              "#fb9f3a"
             ],
             [
              0.8888888888888888,
              "#fdca26"
             ],
             [
              1,
              "#f0f921"
             ]
            ],
            "type": "surface"
           }
          ],
          "table": [
           {
            "cells": {
             "fill": {
              "color": "#EBF0F8"
             },
             "line": {
              "color": "white"
             }
            },
            "header": {
             "fill": {
              "color": "#C8D4E3"
             },
             "line": {
              "color": "white"
             }
            },
            "type": "table"
           }
          ]
         },
         "layout": {
          "annotationdefaults": {
           "arrowcolor": "#2a3f5f",
           "arrowhead": 0,
           "arrowwidth": 1
          },
          "autotypenumbers": "strict",
          "coloraxis": {
           "colorbar": {
            "outlinewidth": 0,
            "ticks": ""
           }
          },
          "colorscale": {
           "diverging": [
            [
             0,
             "#8e0152"
            ],
            [
             0.1,
             "#c51b7d"
            ],
            [
             0.2,
             "#de77ae"
            ],
            [
             0.3,
             "#f1b6da"
            ],
            [
             0.4,
             "#fde0ef"
            ],
            [
             0.5,
             "#f7f7f7"
            ],
            [
             0.6,
             "#e6f5d0"
            ],
            [
             0.7,
             "#b8e186"
            ],
            [
             0.8,
             "#7fbc41"
            ],
            [
             0.9,
             "#4d9221"
            ],
            [
             1,
             "#276419"
            ]
           ],
           "sequential": [
            [
             0,
             "#0d0887"
            ],
            [
             0.1111111111111111,
             "#46039f"
            ],
            [
             0.2222222222222222,
             "#7201a8"
            ],
            [
             0.3333333333333333,
             "#9c179e"
            ],
            [
             0.4444444444444444,
             "#bd3786"
            ],
            [
             0.5555555555555556,
             "#d8576b"
            ],
            [
             0.6666666666666666,
             "#ed7953"
            ],
            [
             0.7777777777777778,
             "#fb9f3a"
            ],
            [
             0.8888888888888888,
             "#fdca26"
            ],
            [
             1,
             "#f0f921"
            ]
           ],
           "sequentialminus": [
            [
             0,
             "#0d0887"
            ],
            [
             0.1111111111111111,
             "#46039f"
            ],
            [
             0.2222222222222222,
             "#7201a8"
            ],
            [
             0.3333333333333333,
             "#9c179e"
            ],
            [
             0.4444444444444444,
             "#bd3786"
            ],
            [
             0.5555555555555556,
             "#d8576b"
            ],
            [
             0.6666666666666666,
             "#ed7953"
            ],
            [
             0.7777777777777778,
             "#fb9f3a"
            ],
            [
             0.8888888888888888,
             "#fdca26"
            ],
            [
             1,
             "#f0f921"
            ]
           ]
          },
          "colorway": [
           "#636efa",
           "#EF553B",
           "#00cc96",
           "#ab63fa",
           "#FFA15A",
           "#19d3f3",
           "#FF6692",
           "#B6E880",
           "#FF97FF",
           "#FECB52"
          ],
          "font": {
           "color": "#2a3f5f"
          },
          "geo": {
           "bgcolor": "white",
           "lakecolor": "white",
           "landcolor": "#E5ECF6",
           "showlakes": true,
           "showland": true,
           "subunitcolor": "white"
          },
          "hoverlabel": {
           "align": "left"
          },
          "hovermode": "closest",
          "mapbox": {
           "style": "light"
          },
          "paper_bgcolor": "white",
          "plot_bgcolor": "#E5ECF6",
          "polar": {
           "angularaxis": {
            "gridcolor": "white",
            "linecolor": "white",
            "ticks": ""
           },
           "bgcolor": "#E5ECF6",
           "radialaxis": {
            "gridcolor": "white",
            "linecolor": "white",
            "ticks": ""
           }
          },
          "scene": {
           "xaxis": {
            "backgroundcolor": "#E5ECF6",
            "gridcolor": "white",
            "gridwidth": 2,
            "linecolor": "white",
            "showbackground": true,
            "ticks": "",
            "zerolinecolor": "white"
           },
           "yaxis": {
            "backgroundcolor": "#E5ECF6",
            "gridcolor": "white",
            "gridwidth": 2,
            "linecolor": "white",
            "showbackground": true,
            "ticks": "",
            "zerolinecolor": "white"
           },
           "zaxis": {
            "backgroundcolor": "#E5ECF6",
            "gridcolor": "white",
            "gridwidth": 2,
            "linecolor": "white",
            "showbackground": true,
            "ticks": "",
            "zerolinecolor": "white"
           }
          },
          "shapedefaults": {
           "line": {
            "color": "#2a3f5f"
           }
          },
          "ternary": {
           "aaxis": {
            "gridcolor": "white",
            "linecolor": "white",
            "ticks": ""
           },
           "baxis": {
            "gridcolor": "white",
            "linecolor": "white",
            "ticks": ""
           },
           "bgcolor": "#E5ECF6",
           "caxis": {
            "gridcolor": "white",
            "linecolor": "white",
            "ticks": ""
           }
          },
          "title": {
           "x": 0.05
          },
          "xaxis": {
           "automargin": true,
           "gridcolor": "white",
           "linecolor": "white",
           "ticks": "",
           "title": {
            "standoff": 15
           },
           "zerolinecolor": "white",
           "zerolinewidth": 2
          },
          "yaxis": {
           "automargin": true,
           "gridcolor": "white",
           "linecolor": "white",
           "ticks": "",
           "title": {
            "standoff": 15
           },
           "zerolinecolor": "white",
           "zerolinewidth": 2
          }
         }
        },
        "title": {
         "text": "U251 Tumor Growth",
         "x": 0.5
        },
        "xaxis": {
         "ticktext": [
          10,
          12,
          17,
          20,
          24,
          28
         ],
         "tickvals": [
          10,
          12,
          17,
          20,
          24,
          28
         ],
         "title": {
          "text": "Days Afer Injection"
         }
        },
        "yaxis": {
         "range": [
          0,
          1000
         ],
         "title": {
          "text": "Tumor Size (mm^3)"
         }
        }
       }
      }
     },
     "metadata": {},
     "output_type": "display_data"
    },
    {
     "name": "stdout",
     "output_type": "stream",
     "text": [
      "Linear regression equation: y = -291.49 + 29.36*x\n",
      "R^2: 0.93\n",
      "MSE: 2566.32\n",
      "MRSE: 0.20\n"
     ]
    }
   ],
   "source": [
    "# In this chunk of code, we will again use go.Figure() to create a figure and add the standard deviation. In addition the linear regression line will also be added to the figure.\n",
    "fig = go.Figure()\n",
    "fig.add_trace(go.Scatter(\n",
    "    x=df_outlier_replaced['days_after_injection'],\n",
    "    y=df_outlier_replaced.mean(axis=1),\n",
    "    mode='lines',\n",
    "    name='Mean',\n",
    "    fill='tonexty',\n",
    "    fillcolor='rgba(0,128,128,0.2)'\n",
    "))\n",
    "fig.add_trace(go.Scatter(\n",
    "    x=df_outlier_replaced['days_after_injection'],\n",
    "    y=df_outlier_replaced.mean(axis=1) + df_outlier_replaced.std(axis=1),\n",
    "    mode='lines',\n",
    "    name='Mean + Std. Dev.',\n",
    "    fill='tonexty',\n",
    "    fillcolor='rgba(0,128,128,0.2)'\n",
    ")) # This will create a trace for the upper bound\n",
    "fig.add_trace(go.Scatter(\n",
    "    x=df_outlier_replaced['days_after_injection'],\n",
    "    y=df_outlier_replaced.mean(axis=1) - df_outlier_replaced.std(axis=1),\n",
    "    mode='lines',\n",
    "    name='Mean - Std. Dev.',\n",
    "    fill='tonexty',\n",
    "    fillcolor='rgba(0,128,128,0.2)'\n",
    ")) # This will create a trace for the lower bound\n",
    "\n",
    "# Plot the linear regression equation\n",
    "x_values = np.linspace(X1.min(), X1.max(), 100)\n",
    "y_1values = average_intercept_1 + average_coef_1 * x_values # important, here you need to call the \"model1\"\n",
    "fig.add_trace(go.Scatter(\n",
    "    x=x_values,\n",
    "    y=y_1values,\n",
    "    mode='lines',\n",
    "    name='Linear regression equation'\n",
    "))\n",
    "\n",
    "fig.update_layout(\n",
    "    title='U251 Tumor Growth',\n",
    "    title_x = 0.5,\n",
    "    xaxis_title='Days Afer Injection',\n",
    "    yaxis_title='Tumor Size (mm^3)',\n",
    "    yaxis_range=[0, 1000] # this set the y-axis range to 0 to 1000\n",
    ")\n",
    "fig.update_xaxes(\n",
    "    tickvals=[10, 12, 17, 20, 24, 28],\n",
    "    ticktext=[10, 12, 17, 20, 24, 28]\n",
    ")\n",
    "fig.show()\n",
    "\n",
    "print(f'Linear regression equation: y = {average_intercept_1:.2f} + {average_coef_1:.2f}*x')\n",
    "print(f'R^2: {r2_1:.2f}')\n",
    "print(f'MSE: {mse1:.2f}')\n",
    "print(f'MRSE: {mrse1:.2f}')"
   ]
  },
  {
   "cell_type": "markdown",
   "metadata": {},
   "source": [
    "### Now, we calculate after how many days the tumor will reach 300 mm^3, considering tumors 1 to 5 after removing outliers."
   ]
  },
  {
   "cell_type": "code",
   "execution_count": 21,
   "metadata": {},
   "outputs": [
    {
     "name": "stdout",
     "output_type": "stream",
     "text": [
      "The value of a is: 29.36\n",
      "The value of b is: -291.49\n",
      "The tumors will reach 300 mm^3 in about: 20 days\n"
     ]
    }
   ],
   "source": [
    "# the equation line is y = a1x1 + b1\n",
    "# a1 is equal to the slope\n",
    "# b1 is equal to the y-intercept\n",
    "# y1 = 300 mm^3\n",
    "# So, to calculate the equation line:\n",
    "a1 = average_coef_1\n",
    "print(f'The value of a is: {a1:.2f}')\n",
    "\n",
    "b1 = average_intercept_1\n",
    "print(f'The value of b is: {b1:.2f}')\n",
    "\n",
    "y1 = 300\n",
    "\n",
    "# So, replacing this values to the line equation:\n",
    "x_grow1 = (300-b1)/a1\n",
    "print(f'The tumors will reach 300 mm^3 in about: {x_grow1:.0f}', 'days')"
   ]
  },
  {
   "cell_type": "markdown",
   "metadata": {},
   "source": [
    "##### Now let's see how the individual tumors look like"
   ]
  },
  {
   "cell_type": "code",
   "execution_count": 22,
   "metadata": {},
   "outputs": [
    {
     "data": {
      "image/png": "[encoded data removed]",
      "text/plain": [
       "<Figure size 1000x600 with 1 Axes>"
      ]
     },
     "metadata": {},
     "output_type": "display_data"
    },
    {
     "name": "stdout",
     "output_type": "stream",
     "text": [
      "Linear regression equation: y1_1 = -236.87 + 28.87 * x\n",
      "Linear regression equation: y2_1 = -305.63 + 30.98 * x\n",
      "Linear regression equation: y3_1 = -310.23 + 32.18 * x\n",
      "Linear regression equation: y4_1 = -309.76 + 27.74 * x\n",
      "Linear regression equation: y5_1 = -294.97 + 27.02 * x\n"
     ]
    }
   ],
   "source": [
    "# Now, we need to create the X and y for the linear regression model. Since there are more than one tumor, each tumor will be assigned to a different y\n",
    "X1 = df_outlier_replaced['days_after_injection']\n",
    "y1_1= np.array(df_outlier_replaced['tumor_1'])\n",
    "y2_1= np.array(df_outlier_replaced['tumor_2'])\n",
    "y3_1= np.array(df_outlier_replaced['tumor_3'])\n",
    "y4_1= np.array(df_outlier_replaced['tumor_4'])\n",
    "y5_1= np.array(df_outlier_replaced['tumor_5'])\n",
    "\n",
    "model_y1_1 = LinearRegression() # create the linear regression model for tumor_1\n",
    "model_y1_1.fit(X1.values.reshape(-1, 1), y1_1) # fit the linear regression model for tumor_2\n",
    "\n",
    "model_y2_1 = LinearRegression() # create the linear regression model for tumor_2\n",
    "model_y2_1.fit(X1.values.reshape(-1, 1), y2_1) # fit the linear regression model for tumor_2\n",
    "\n",
    "model_y3_1 = LinearRegression() # create the linear regression model for tumor_3\n",
    "model_y3_1.fit(X1.values.reshape(-1, 1), y3_1) # fit the linear regression model for tumor_3\n",
    "\n",
    "model_y4_1 = LinearRegression() # create the linear regression model for tumor_4\n",
    "model_y4_1.fit(X1.values.reshape(-1, 1), y4_1) # fit the linear regression model for tumor_4\n",
    "\n",
    "model_y5_1 = LinearRegression() # create the linear regression model for tumor_5\n",
    "model_y5_1.fit(X1.values.reshape(-1, 1), y5_1) # fit the linear regression model for tumor_5\n",
    "\n",
    "predictions_y1_1 = model_y1_1.predict(X1.values.reshape(-1, 1)) # predict the y2 values\n",
    "predictions_y2_1 = model_y2_1.predict(X1.values.reshape(-1, 1)) # predict the y2 values\n",
    "predictions_y3_1 = model_y3_1.predict(X1.values.reshape(-1, 1)) # predict the y3 values\n",
    "predictions_y4_1 = model_y4_1.predict(X1.values.reshape(-1, 1)) # predict the y4 values\n",
    "predictions_y5_1 = model_y5_1.predict(X1.values.reshape(-1, 1)) # predict the y5 values\n",
    "\n",
    "# Finally, we plot the data points for each tumor, assigning a different color and marker\n",
    "plt.figure(figsize=(10, 6))\n",
    "plt.scatter(X1, y1_1, color='m', label='tumor_1', marker='x')\n",
    "plt.scatter(X1, y2_1, color='r', label='tumor_2', marker='o')\n",
    "plt.scatter(X1, y3_1, color='g', label='tumor_3', marker='s')\n",
    "plt.scatter(X1, y4_1, color='b', label='tumor_4', marker='v')\n",
    "plt.scatter(X1, y5_1, color='c', label='tumor_5', marker='*')\n",
    "\n",
    "# Here we assign a different color and linestyle for each linear regression model derived from tumor_2 to tumor_5\n",
    "plt.plot(X1,predictions_y1_1, color='m', linestyle='dotted', label='Linear Regression for tumor_1') \n",
    "plt.plot(X1, predictions_y2_1, color='r', linestyle='-', label='Linear Regression for tumor_2')\n",
    "plt.plot(X1, predictions_y3_1, color='g', linestyle='--', label='Linear Regression for tumor_3')\n",
    "plt.plot(X1, predictions_y4_1, color='b', linestyle='-.', label='Linear Regression for tumor_4')\n",
    "plt.plot(X1, predictions_y5_1, color='c', linestyle=':', label='Linear Regression for tumor_5')\n",
    "\n",
    "plt.xlabel('Days After Injection')\n",
    "plt.ylabel('Tumor Size (mm^3)')\n",
    "plt.title('U251 Tumor Growth')\n",
    "plt.legend()\n",
    "plt.xticks([10, 12, 17, 20, 24, 28])\n",
    "plt.show()\n",
    "\n",
    "print(f'Linear regression equation: y1_1 = {model_y1_1.intercept_:.2f} + {model_y1_1.coef_[0]:.2f} * x') # print the linear regression equation\n",
    "print(f'Linear regression equation: y2_1 = {model_y2_1.intercept_:.2f} + {model_y2_1.coef_[0]:.2f} * x') # print the linear regression equation\n",
    "print(f'Linear regression equation: y3_1 = {model_y3_1.intercept_:.2f} + {model_y3_1.coef_[0]:.2f} * x') # print the linear regression equation\n",
    "print(f'Linear regression equation: y4_1 = {model_y4_1.intercept_:.2f} + {model_y4_1.coef_[0]:.2f} * x') # print the linear regression equation\n",
    "print(f'Linear regression equation: y5_1 = {model_y5_1.intercept_:.2f} + {model_y5_1.coef_[0]:.2f} * x') # print the linear regression equation"
   ]
  },
  {
   "cell_type": "markdown",
   "metadata": {},
   "source": [
    "## Finally, let's check how the tumor growth prediction analysis would look like if we haven't excluded any point"
   ]
  },
  {
   "cell_type": "code",
   "execution_count": 23,
   "metadata": {},
   "outputs": [
    {
     "name": "stdout",
     "output_type": "stream",
     "text": [
      "   days_after_injection  tumor_1  tumor_2  tumor_3  tumor_4  tumor_5\n",
      "0                    10    50.40    39.38    35.50    32.32    16.46\n",
      "1                    12    82.34    56.24    69.16    29.97    32.22\n",
      "2                    17   243.80   168.57   239.31   132.60   116.17\n",
      "3                    20   425.60   305.81   284.59   112.50   148.84\n",
      "4                    24   744.67   480.20   472.38   383.82   313.60\n",
      "5                    28  1211.48   555.13   609.75   529.83   334.61\n"
     ]
    }
   ],
   "source": [
    "# First we print the main df\n",
    "print(df_U251)"
   ]
  },
  {
   "cell_type": "code",
   "execution_count": 24,
   "metadata": {},
   "outputs": [
    {
     "name": "stdout",
     "output_type": "stream",
     "text": [
      "Linear Regression Equation: Y = -362.63 + 34.48*X\n",
      "\n",
      "Please see the predictions below:\n",
      "[[ -69.5860334     4.20033403   11.57665971  -32.31846903   -3.05581768]\n",
      " [  54.95538622   66.16613779   75.93862213   23.16979819   35.38476688]\n",
      " [ 366.30893528  221.08064718  236.84352818  161.89046625  131.48622825]\n",
      " [ 553.12106472  314.02935282  333.38647182  245.12286708  189.14710508]\n",
      " [ 802.20390397  437.96096033  462.11039666  356.09940153  266.02827418]\n",
      " [1051.28674322  561.89256785  590.8343215   467.07593598  342.90944328]]\n",
      "\n",
      "Please see the coefficients below:\n",
      "[[62.27070981]\n",
      " [30.98290188]\n",
      " [32.18098121]\n",
      " [27.74413361]\n",
      " [19.22029228]]\n",
      "\n",
      "Please see the intercept below:\n",
      "[-692.29313152 -305.62868476 -310.2331524  -309.75980515 -195.25874043]\n",
      "\n",
      "Please see the MSE, R^2 and MRSE below:\n",
      "MSE: 3893.60 The Mean Square Error (MSE) measures the average squared difference between \n",
      "      the actual and predicted values in the model. Lower MSE values indicate better model performance\n",
      "R^2: 0.94 The R-squared value measures the proportion of the variance in the dependent \n",
      "      variable that is predictable from the independent variable. Higher R-squared vaules indicate better \n",
      "      model performance\n",
      "MRSE: 0.23 The Mean Relative Square Error (MRSE) is a variation of MSE that accounts \n",
      "      for the scale of the data by normalizing the squared error using the mean of the actual values. \n",
      "      It is useful when the scale of the target variable varies widely across samples. \n",
      "      Like MSE, lower MSRE values indicate better model performance\n"
     ]
    }
   ],
   "source": [
    "X2 = df_U251['days_after_injection'].values.reshape(-1, 1) # To create the X2 array\n",
    "y1_2= np.array(df_U251['tumor_1'])\n",
    "y2_2= np.array(df_U251['tumor_2'])\n",
    "y3_2= np.array(df_U251['tumor_3'])\n",
    "y4_2= np.array(df_U251['tumor_4'])\n",
    "y5_2= np.array(df_U251['tumor_5'])\n",
    "\n",
    "Y2 = np.vstack([y1_2, y2_2, y3_2, y4_2, y5_2]).T # to stack the y arrays vertically into one single Y2\n",
    "\n",
    "model2 = LinearRegression().fit(X2, Y2) # create the linear regression model\n",
    "\n",
    "predictions2 = model2.predict(X2) # predict the y values\n",
    "y_pred2 = model2.predict(X2) \n",
    "mse2 = mean_squared_error(Y2, y_pred2)\n",
    "r2_2 = r2_score(Y2, y_pred2)\n",
    "mrse2 = np.sqrt(mse2)/np.mean(Y2)\n",
    "\n",
    "average_coef_2 = np.mean([model2.coef_]) # calculate the average coefficient of the linear regression equation. Omit [0][0] for gettin the right number\n",
    "average_intercept_2 = np.mean([model2.intercept_]) # calculate the average intercept of the linear regression equation\n",
    "\n",
    "print(f'Linear Regression Equation: Y = {average_intercept_2:.2f} + {average_coef_2:.2f}*X') # print the linear regression equation. This equation considers all tumors tumor based on the averages of intercept and coefficient.\n",
    "print() # To print a space between the two print statements\n",
    "print('Please see the predictions below:')\n",
    "print(predictions2) # print the predicted y values\n",
    "\n",
    "print() # To print a space between the two print statements\n",
    "print('Please see the coefficients below:')\n",
    "print(model2.coef_) # print the coefficients of the linear regression equation\n",
    "print() # to print a space between the two print statements\n",
    "print('Please see the intercept below:')\n",
    "print(model2.intercept_) # print the intercept of the linear regression equation\n",
    "\n",
    "print() # to print a space between the two print statements\n",
    "print('Please see the MSE, R^2 and MRSE below:')\n",
    "print(f'MSE: {mse2:.2f}', '''The Mean Square Error (MSE) measures the average squared difference between \n",
    "      the actual and predicted values in the model. Lower MSE values indicate better model performance''') # print the mean squared error of the linear regression model\n",
    "print(f'R^2: {r2_2:.2f}', '''The R-squared value measures the proportion of the variance in the dependent \n",
    "      variable that is predictable from the independent variable. Higher R-squared vaules indicate better \n",
    "      model performance''') # print the R-squared value of the linear regression model\n",
    "print(f'MRSE: {mrse2:.2f}', '''The Mean Relative Square Error (MRSE) is a variation of MSE that accounts \n",
    "      for the scale of the data by normalizing the squared error using the mean of the actual values. \n",
    "      It is useful when the scale of the target variable varies widely across samples. \n",
    "      Like MSE, lower MSRE values indicate better model performance''') # print the mean root squared error of the linear regression model"
   ]
  },
  {
   "cell_type": "code",
   "execution_count": 25,
   "metadata": {},
   "outputs": [
    {
     "data": {
      "image/png": "[encoded data removed]",
      "text/plain": [
       "<Figure size 640x480 with 1 Axes>"
      ]
     },
     "metadata": {},
     "output_type": "display_data"
    },
    {
     "data": {
      "image/png": "[encoded data removed]",
      "text/plain": [
       "<Figure size 640x480 with 1 Axes>"
      ]
     },
     "metadata": {},
     "output_type": "display_data"
    },
    {
     "name": "stdout",
     "output_type": "stream",
     "text": [
      "Linear Regression Equation: Y = -362.63 + 34.48*X\n",
      "MSE: 3893.60\n",
      "R^2: 0.94\n",
      "MRSE: 0.23\n"
     ]
    }
   ],
   "source": [
    "# Plot each set of y-values separately\n",
    "for i in range(Y2.shape[1]):\n",
    "    plt.scatter(X2, Y2[:, i], label=f'Tumor {i+1}')\n",
    "\n",
    "# Plot the linear regression equation\n",
    "x2_values = np.linspace(X2.min(), X2.max(), 100)\n",
    "y2_values = average_intercept_2 + average_coef_2 * x2_values\n",
    "plt.plot(x2_values, y2_values, label='Linear regression')\n",
    "\n",
    "# Add a legend, labels, and title\n",
    "plt.legend()\n",
    "plt.ylabel('Tumor Size (mm^3)')\n",
    "plt.xlabel('Days After Injection')\n",
    "plt.title('Linear Regression Model for all tumors')\n",
    "plt.xticks([10, 12, 17, 20, 24, 28])\n",
    "\n",
    "# Show the plot\n",
    "plt.show()\n",
    "\n",
    "\n",
    "# Calculate the mean of Y2 across all tumors\n",
    "average_Y2 = np.mean(Y2, axis=1)\n",
    "\n",
    "# Plot the average of y-values\n",
    "plt.scatter(X2, average_Y2, label='Average Tumor')\n",
    "\n",
    "# Plot the linear regression equation\n",
    "x2_values = np.linspace(X2.min(), X2.max(), 100)\n",
    "y2_values = average_intercept_2 + average_coef_2 * x2_values\n",
    "plt.plot(x2_values, y2_values, label='Linear regression')\n",
    "\n",
    "# Add a legend, labels, and title\n",
    "plt.legend()\n",
    "plt.ylabel('Tumor Size (mm^3)')\n",
    "plt.xlabel('Days After Injection')\n",
    "plt.title('Linear Regression Model for all tumors')\n",
    "plt.xticks([10, 12, 17, 20, 24, 28])\n",
    "\n",
    "# Show the plot\n",
    "plt.show()\n",
    "\n",
    "\n",
    "print(f'Linear Regression Equation: Y = {average_intercept_2:.2f} + {average_coef_2:.2f}*X')\n",
    "print(f'MSE: {mse2:.2f}')\n",
    "print(f'R^2: {r2_2:.2f}')\n",
    "print(f'MRSE: {mrse2:.2f}')"
   ]
  },
  {
   "cell_type": "code",
   "execution_count": 26,
   "metadata": {},
   "outputs": [
    {
     "data": {
      "application/vnd.plotly.v1+json": {
       "config": {
        "plotlyServerURL": "https://plot.ly"
       },
       "data": [
        {
         "fill": "tonexty",
         "fillcolor": "rgba(0,128,128,0.2)",
         "mode": "lines",
         "name": "Mean",
         "type": "scatter",
         "x": [
          10,
          12,
          17,
          20,
          24,
          28
         ],
         "y": [
          30.676666666666666,
          46.98833333333334,
          152.90833333333333,
          216.22333333333333,
          403.1116666666667,
          544.8000000000001
         ]
        },
        {
         "fill": "tonexty",
         "fillcolor": "rgba(0,128,128,0.2)",
         "mode": "lines",
         "name": "Mean + Std. Dev.",
         "type": "scatter",
         "x": [
          10,
          12,
          17,
          20,
          24,
          28
         ],
         "y": [
          45.64570894286679,
          73.66726615806729,
          238.00244533097197,
          364.77702768883114,
          639.5489610528668,
          934.7419471664982
         ]
        },
        {
         "fill": "tonexty",
         "fillcolor": "rgba(0,128,128,0.2)",
         "mode": "lines",
         "name": "Mean - Std. Dev.",
         "type": "scatter",
         "x": [
          10,
          12,
          17,
          20,
          24,
          28
         ],
         "y": [
          15.70762439046654,
          20.309400508599385,
          67.8142213356947,
          67.66963897783549,
          166.67437228046657,
          154.85805283350197
         ]
        },
        {
         "mode": "lines",
         "name": "Linear regression equation",
         "type": "scatter",
         "x": [
          10,
          10.181818181818182,
          10.363636363636363,
          10.545454545454545,
          10.727272727272727,
          10.90909090909091,
          11.09090909090909,
          11.272727272727273,
          11.454545454545455,
          11.636363636363637,
          11.818181818181818,
          12,
          12.181818181818182,
          12.363636363636363,
          12.545454545454545,
          12.727272727272727,
          12.90909090909091,
          13.09090909090909,
          13.272727272727273,
          13.454545454545455,
          13.636363636363637,
          13.818181818181818,
          14,
          14.181818181818182,
          14.363636363636363,
          14.545454545454547,
          14.727272727272727,
          14.90909090909091,
          15.09090909090909,
          15.272727272727273,
          15.454545454545455,
          15.636363636363637,
          15.818181818181818,
          16,
          16.18181818181818,
          16.363636363636363,
          16.545454545454547,
          16.727272727272727,
          16.90909090909091,
          17.09090909090909,
          17.272727272727273,
          17.454545454545453,
          17.636363636363637,
          17.81818181818182,
          18,
          18.18181818181818,
          18.363636363636363,
          18.545454545454547,
          18.727272727272727,
          18.90909090909091,
          19.090909090909093,
          19.272727272727273,
          19.454545454545453,
          19.636363636363637,
          19.81818181818182,
          20,
          20.18181818181818,
          20.363636363636363,
          20.545454545454547,
          20.727272727272727,
          20.90909090909091,
          21.090909090909093,
          21.272727272727273,
          21.454545454545453,
          21.636363636363637,
          21.81818181818182,
          22,
          22.18181818181818,
          22.363636363636363,
          22.545454545454547,
          22.727272727272727,
          22.90909090909091,
          23.090909090909093,
          23.272727272727273,
          23.454545454545453,
          23.636363636363637,
          23.81818181818182,
          24,
          24.18181818181818,
          24.363636363636363,
          24.545454545454547,
          24.727272727272727,
          24.90909090909091,
          25.090909090909093,
          25.272727272727273,
          25.454545454545453,
          25.636363636363637,
          25.81818181818182,
          26,
          26.181818181818183,
          26.363636363636363,
          26.545454545454547,
          26.727272727272727,
          26.90909090909091,
          27.09090909090909,
          27.272727272727273,
          27.454545454545453,
          27.636363636363637,
          27.81818181818182,
          28
         ],
         "y": [
          -17.836665274878385,
          -11.56761004618221,
          -5.298554817486092,
          0.9705004112100823,
          7.2395556399062,
          13.508610868602432,
          19.777666097298493,
          26.046721325994667,
          32.31577655469084,
          38.58483178338696,
          44.853887012083135,
          51.12294224077925,
          57.39199746947537,
          63.661052698171545,
          69.93010792686766,
          76.19916315556384,
          82.46821838426001,
          88.73727361295607,
          95.0063288416523,
          101.27538407034842,
          107.5444392990446,
          113.81349452774072,
          120.08254975643689,
          126.35160498513301,
          132.62066021382913,
          138.88971544252536,
          145.15877067122142,
          151.42782589991765,
          157.6968811286137,
          163.9659363573099,
          170.23499158600606,
          176.50404681470224,
          182.7731020433983,
          189.04215727209447,
          195.31121250079053,
          201.5802677294867,
          207.849322958183,
          214.11837818687906,
          220.38743341557523,
          226.6564886442713,
          232.92554387296747,
          239.19459910166364,
          245.46365433035982,
          251.732709559056,
          258.00176478775205,
          264.2708200164481,
          270.5398752451444,
          276.8089304738406,
          283.07798570253664,
          289.3470409312328,
          295.6160961599291,
          301.88515138862516,
          308.1542066173212,
          314.4232618460174,
          320.69231707471357,
          326.96137230340963,
          333.2304275321058,
          339.499482760802,
          345.76853798949816,
          352.0375932181942,
          358.3066484468905,
          364.5757036755867,
          370.84475890428274,
          377.1138141329788,
          383.382869361675,
          389.65192459037127,
          395.9209798190673,
          402.1900350477634,
          408.45909027645956,
          414.72814550515574,
          420.9972007338519,
          427.2662559625481,
          433.53531119124426,
          439.8043664199403,
          446.0734216486364,
          452.3424768773327,
          458.61153210602885,
          464.8805873347249,
          471.14964256342097,
          477.41869779211714,
          483.68775302081343,
          489.9568082495095,
          496.22586347820567,
          502.49491870690184,
          508.7639739355979,
          515.033029164294,
          521.3020843929903,
          527.5711396216864,
          533.8401948503824,
          540.1092500790787,
          546.3783053077748,
          552.6473605364711,
          558.9164157651671,
          565.1854709938632,
          571.4545262225593,
          577.7235814512555,
          583.9926366799516,
          590.2616919086479,
          596.530747137344,
          602.7998023660402
         ]
        }
       ],
       "layout": {
        "template": {
         "data": {
          "bar": [
           {
            "error_x": {
             "color": "#2a3f5f"
            },
            "error_y": {
             "color": "#2a3f5f"
            },
            "marker": {
             "line": {
              "color": "#E5ECF6",
              "width": 0.5
             },
             "pattern": {
              "fillmode": "overlay",
              "size": 10,
              "solidity": 0.2
             }
            },
            "type": "bar"
           }
          ],
          "barpolar": [
           {
            "marker": {
             "line": {
              "color": "#E5ECF6",
              "width": 0.5
             },
             "pattern": {
              "fillmode": "overlay",
              "size": 10,
              "solidity": 0.2
             }
            },
            "type": "barpolar"
           }
          ],
          "carpet": [
           {
            "aaxis": {
             "endlinecolor": "#2a3f5f",
             "gridcolor": "white",
             "linecolor": "white",
             "minorgridcolor": "white",
             "startlinecolor": "#2a3f5f"
            },
            "baxis": {
             "endlinecolor": "#2a3f5f",
             "gridcolor": "white",
             "linecolor": "white",
             "minorgridcolor": "white",
             "startlinecolor": "#2a3f5f"
            },
            "type": "carpet"
           }
          ],
          "choropleth": [
           {
            "colorbar": {
             "outlinewidth": 0,
             "ticks": ""
            },
            "type": "choropleth"
           }
          ],
          "contour": [
           {
            "colorbar": {
             "outlinewidth": 0,
             "ticks": ""
            },
            "colorscale": [
             [
              0,
              "#0d0887"
             ],
             [
              0.1111111111111111,
              "#46039f"
             ],
             [
              0.2222222222222222,
              "#7201a8"
             ],
             [
              0.3333333333333333,
              "#9c179e"
             ],
             [
              0.4444444444444444,
              "#bd3786"
             ],
             [
              0.5555555555555556,
              "#d8576b"
             ],
             [
              0.6666666666666666,
              "#ed7953"
             ],
             [
              0.7777777777777778,
              "#fb9f3a"
             ],
             [
              0.8888888888888888,
              "#fdca26"
             ],
             [
              1,
              "#f0f921"
             ]
            ],
            "type": "contour"
           }
          ],
          "contourcarpet": [
           {
            "colorbar": {
             "outlinewidth": 0,
             "ticks": ""
            },
            "type": "contourcarpet"
           }
          ],
          "heatmap": [
           {
            "colorbar": {
             "outlinewidth": 0,
             "ticks": ""
            },
            "colorscale": [
             [
              0,
              "#0d0887"
             ],
             [
              0.1111111111111111,
              "#46039f"
             ],
             [
              0.2222222222222222,
              "#7201a8"
             ],
             [
              0.3333333333333333,
              "#9c179e"
             ],
             [
              0.4444444444444444,
              "#bd3786"
             ],
             [
              0.5555555555555556,
              "#d8576b"
             ],
             [
              0.6666666666666666,
              "#ed7953"
             ],
             [
              0.7777777777777778,
              "#fb9f3a"
             ],
             [
              0.8888888888888888,
              "#fdca26"
             ],
             [
              1,
              "#f0f921"
             ]
            ],
            "type": "heatmap"
           }
          ],
          "heatmapgl": [
           {
            "colorbar": {
             "outlinewidth": 0,
             "ticks": ""
            },
            "colorscale": [
             [
              0,
              "#0d0887"
             ],
             [
              0.1111111111111111,
              "#46039f"
             ],
             [
              0.2222222222222222,
              "#7201a8"
             ],
             [
              0.3333333333333333,
              "#9c179e"
             ],
             [
              0.4444444444444444,
              "#bd3786"
             ],
             [
              0.5555555555555556,
              "#d8576b"
             ],
             [
              0.6666666666666666,
              "#ed7953"
             ],
             [
              0.7777777777777778,
              "#fb9f3a"
             ],
             [
              0.8888888888888888,
              "#fdca26"
             ],
             [
              1,
              "#f0f921"
             ]
            ],
            "type": "heatmapgl"
           }
          ],
          "histogram": [
           {
            "marker": {
             "pattern": {
              "fillmode": "overlay",
              "size": 10,
              "solidity": 0.2
             }
            },
            "type": "histogram"
           }
          ],
          "histogram2d": [
           {
            "colorbar": {
             "outlinewidth": 0,
             "ticks": ""
            },
            "colorscale": [
             [
              0,
              "#0d0887"
             ],
             [
              0.1111111111111111,
              "#46039f"
             ],
             [
              0.2222222222222222,
              "#7201a8"
             ],
             [
              0.3333333333333333,
              "#9c179e"
             ],
             [
              0.4444444444444444,
              "#bd3786"
             ],
             [
              0.5555555555555556,
              "#d8576b"
             ],
             [
              0.6666666666666666,
              "#ed7953"
             ],
             [
              0.7777777777777778,
              "#fb9f3a"
             ],
             [
              0.8888888888888888,
              "#fdca26"
             ],
             [
              1,
              "#f0f921"
             ]
            ],
            "type": "histogram2d"
           }
          ],
          "histogram2dcontour": [
           {
            "colorbar": {
             "outlinewidth": 0,
             "ticks": ""
            },
            "colorscale": [
             [
              0,
              "#0d0887"
             ],
             [
              0.1111111111111111,
              "#46039f"
             ],
             [
              0.2222222222222222,
              "#7201a8"
             ],
             [
              0.3333333333333333,
              "#9c179e"
             ],
             [
              0.4444444444444444,
              "#bd3786"
             ],
             [
              0.5555555555555556,
              "#d8576b"
             ],
             [
              0.6666666666666666,
              "#ed7953"
             ],
             [
              0.7777777777777778,
              "#fb9f3a"
             ],
             [
              0.8888888888888888,
              "#fdca26"
             ],
             [
              1,
              "#f0f921"
             ]
            ],
            "type": "histogram2dcontour"
           }
          ],
          "mesh3d": [
           {
            "colorbar": {
             "outlinewidth": 0,
             "ticks": ""
            },
            "type": "mesh3d"
           }
          ],
          "parcoords": [
           {
            "line": {
             "colorbar": {
              "outlinewidth": 0,
              "ticks": ""
             }
            },
            "type": "parcoords"
           }
          ],
          "pie": [
           {
            "automargin": true,
            "type": "pie"
           }
          ],
          "scatter": [
           {
            "fillpattern": {
             "fillmode": "overlay",
             "size": 10,
             "solidity": 0.2
            },
            "type": "scatter"
           }
          ],
          "scatter3d": [
           {
            "line": {
             "colorbar": {
              "outlinewidth": 0,
              "ticks": ""
             }
            },
            "marker": {
             "colorbar": {
              "outlinewidth": 0,
              "ticks": ""
             }
            },
            "type": "scatter3d"
           }
          ],
          "scattercarpet": [
           {
            "marker": {
             "colorbar": {
              "outlinewidth": 0,
              "ticks": ""
             }
            },
            "type": "scattercarpet"
           }
          ],
          "scattergeo": [
           {
            "marker": {
             "colorbar": {
              "outlinewidth": 0,
              "ticks": ""
             }
            },
            "type": "scattergeo"
           }
          ],
          "scattergl": [
           {
            "marker": {
             "colorbar": {
              "outlinewidth": 0,
              "ticks": ""
             }
            },
            "type": "scattergl"
           }
          ],
          "scattermapbox": [
           {
            "marker": {
             "colorbar": {
              "outlinewidth": 0,
              "ticks": ""
             }
            },
            "type": "scattermapbox"
           }
          ],
          "scatterpolar": [
           {
            "marker": {
             "colorbar": {
              "outlinewidth": 0,
              "ticks": ""
             }
            },
            "type": "scatterpolar"
           }
          ],
          "scatterpolargl": [
           {
            "marker": {
             "colorbar": {
              "outlinewidth": 0,
              "ticks": ""
             }
            },
            "type": "scatterpolargl"
           }
          ],
          "scatterternary": [
           {
            "marker": {
             "colorbar": {
              "outlinewidth": 0,
              "ticks": ""
             }
            },
            "type": "scatterternary"
           }
          ],
          "surface": [
           {
            "colorbar": {
             "outlinewidth": 0,
             "ticks": ""
            },
            "colorscale": [
             [
              0,
              "#0d0887"
             ],
             [
              0.1111111111111111,
              "#46039f"
             ],
             [
              0.2222222222222222,
              "#7201a8"
             ],
             [
              0.3333333333333333,
              "#9c179e"
             ],
             [
              0.4444444444444444,
              "#bd3786"
             ],
             [
              0.5555555555555556,
              "#d8576b"
             ],
             [
              0.6666666666666666,
              "#ed7953"
             ],
             [
              0.7777777777777778,
              "#fb9f3a"
             ],
             [
              0.8888888888888888,
              "#fdca26"
             ],
             [
              1,
              "#f0f921"
             ]
            ],
            "type": "surface"
           }
          ],
          "table": [
           {
            "cells": {
             "fill": {
              "color": "#EBF0F8"
             },
             "line": {
              "color": "white"
             }
            },
            "header": {
             "fill": {
              "color": "#C8D4E3"
             },
             "line": {
              "color": "white"
             }
            },
            "type": "table"
           }
          ]
         },
         "layout": {
          "annotationdefaults": {
           "arrowcolor": "#2a3f5f",
           "arrowhead": 0,
           "arrowwidth": 1
          },
          "autotypenumbers": "strict",
          "coloraxis": {
           "colorbar": {
            "outlinewidth": 0,
            "ticks": ""
           }
          },
          "colorscale": {
           "diverging": [
            [
             0,
             "#8e0152"
            ],
            [
             0.1,
             "#c51b7d"
            ],
            [
             0.2,
             "#de77ae"
            ],
            [
             0.3,
             "#f1b6da"
            ],
            [
             0.4,
             "#fde0ef"
            ],
            [
             0.5,
             "#f7f7f7"
            ],
            [
             0.6,
             "#e6f5d0"
            ],
            [
             0.7,
             "#b8e186"
            ],
            [
             0.8,
             "#7fbc41"
            ],
            [
             0.9,
             "#4d9221"
            ],
            [
             1,
             "#276419"
            ]
           ],
           "sequential": [
            [
             0,
             "#0d0887"
            ],
            [
             0.1111111111111111,
             "#46039f"
            ],
            [
             0.2222222222222222,
             "#7201a8"
            ],
            [
             0.3333333333333333,
             "#9c179e"
            ],
            [
             0.4444444444444444,
             "#bd3786"
            ],
            [
             0.5555555555555556,
             "#d8576b"
            ],
            [
             0.6666666666666666,
             "#ed7953"
            ],
            [
             0.7777777777777778,
             "#fb9f3a"
            ],
            [
             0.8888888888888888,
             "#fdca26"
            ],
            [
             1,
             "#f0f921"
            ]
           ],
           "sequentialminus": [
            [
             0,
             "#0d0887"
            ],
            [
             0.1111111111111111,
             "#46039f"
            ],
            [
             0.2222222222222222,
             "#7201a8"
            ],
            [
             0.3333333333333333,
             "#9c179e"
            ],
            [
             0.4444444444444444,
             "#bd3786"
            ],
            [
             0.5555555555555556,
             "#d8576b"
            ],
            [
             0.6666666666666666,
             "#ed7953"
            ],
            [
             0.7777777777777778,
             "#fb9f3a"
            ],
            [
             0.8888888888888888,
             "#fdca26"
            ],
            [
             1,
             "#f0f921"
            ]
           ]
          },
          "colorway": [
           "#636efa",
           "#EF553B",
           "#00cc96",
           "#ab63fa",
           "#FFA15A",
           "#19d3f3",
           "#FF6692",
           "#B6E880",
           "#FF97FF",
           "#FECB52"
          ],
          "font": {
           "color": "#2a3f5f"
          },
          "geo": {
           "bgcolor": "white",
           "lakecolor": "white",
           "landcolor": "#E5ECF6",
           "showlakes": true,
           "showland": true,
           "subunitcolor": "white"
          },
          "hoverlabel": {
           "align": "left"
          },
          "hovermode": "closest",
          "mapbox": {
           "style": "light"
          },
          "paper_bgcolor": "white",
          "plot_bgcolor": "#E5ECF6",
          "polar": {
           "angularaxis": {
            "gridcolor": "white",
            "linecolor": "white",
            "ticks": ""
           },
           "bgcolor": "#E5ECF6",
           "radialaxis": {
            "gridcolor": "white",
            "linecolor": "white",
            "ticks": ""
           }
          },
          "scene": {
           "xaxis": {
            "backgroundcolor": "#E5ECF6",
            "gridcolor": "white",
            "gridwidth": 2,
            "linecolor": "white",
            "showbackground": true,
            "ticks": "",
            "zerolinecolor": "white"
           },
           "yaxis": {
            "backgroundcolor": "#E5ECF6",
            "gridcolor": "white",
            "gridwidth": 2,
            "linecolor": "white",
            "showbackground": true,
            "ticks": "",
            "zerolinecolor": "white"
           },
           "zaxis": {
            "backgroundcolor": "#E5ECF6",
            "gridcolor": "white",
            "gridwidth": 2,
            "linecolor": "white",
            "showbackground": true,
            "ticks": "",
            "zerolinecolor": "white"
           }
          },
          "shapedefaults": {
           "line": {
            "color": "#2a3f5f"
           }
          },
          "ternary": {
           "aaxis": {
            "gridcolor": "white",
            "linecolor": "white",
            "ticks": ""
           },
           "baxis": {
            "gridcolor": "white",
            "linecolor": "white",
            "ticks": ""
           },
           "bgcolor": "#E5ECF6",
           "caxis": {
            "gridcolor": "white",
            "linecolor": "white",
            "ticks": ""
           }
          },
          "title": {
           "x": 0.05
          },
          "xaxis": {
           "automargin": true,
           "gridcolor": "white",
           "linecolor": "white",
           "ticks": "",
           "title": {
            "standoff": 15
           },
           "zerolinecolor": "white",
           "zerolinewidth": 2
          },
          "yaxis": {
           "automargin": true,
           "gridcolor": "white",
           "linecolor": "white",
           "ticks": "",
           "title": {
            "standoff": 15
           },
           "zerolinecolor": "white",
           "zerolinewidth": 2
          }
         }
        },
        "title": {
         "text": "U251 Tumor Growth",
         "x": 0.5
        },
        "xaxis": {
         "ticktext": [
          10,
          12,
          17,
          20,
          24,
          28
         ],
         "tickvals": [
          10,
          12,
          17,
          20,
          24,
          28
         ],
         "title": {
          "text": "Days Afer Injection"
         }
        },
        "yaxis": {
         "range": [
          0,
          1000
         ],
         "title": {
          "text": "Tumor Size (mm^3)"
         }
        }
       }
      }
     },
     "metadata": {},
     "output_type": "display_data"
    },
    {
     "name": "stdout",
     "output_type": "stream",
     "text": [
      "Linear Regression Equation: Y = -362.63 + 34.48*X\n",
      "MSE: 3893.60\n",
      "R^2: 0.94\n",
      "MRSE: 0.23\n"
     ]
    }
   ],
   "source": [
    "# In this chunk of code, we will again use go.Figure() to create a figure and add the standard deviation. In addition the linear regression line will also be added to the figure.\n",
    "fig = go.Figure()\n",
    "fig.add_trace(go.Scatter(\n",
    "    x=df_U251['days_after_injection'],\n",
    "    y=df_U251.mean(axis=1),\n",
    "    mode='lines',\n",
    "    name='Mean',\n",
    "    fill='tonexty',\n",
    "    fillcolor='rgba(0,128,128,0.2)'\n",
    "))\n",
    "fig.add_trace(go.Scatter(\n",
    "    x=df_U251['days_after_injection'],\n",
    "    y=df_U251.mean(axis=1) + df_U251.std(axis=1),\n",
    "    mode='lines',\n",
    "    name='Mean + Std. Dev.',\n",
    "    fill='tonexty',\n",
    "    fillcolor='rgba(0,128,128,0.2)'\n",
    ")) # this will create a trace for the upper bound\n",
    "fig.add_trace(go.Scatter(\n",
    "    x=df_U251['days_after_injection'],\n",
    "    y=df_U251.mean(axis=1) - df_U251.std(axis=1),\n",
    "    mode='lines',\n",
    "    name='Mean - Std. Dev.',\n",
    "    fill='tonexty',\n",
    "    fillcolor='rgba(0,128,128,0.2)'\n",
    ")) # This will create a trace for the lower bound\n",
    "\n",
    "# Plot the linear regression equation\n",
    "x2_values = np.linspace(X2.min(), X2.max(), 100)\n",
    "y2_values = average_intercept_2 + average_coef_2 * x2_values\n",
    "fig.add_trace(go.Scatter(\n",
    "    x=x2_values,\n",
    "    y=y2_values,\n",
    "    mode='lines',\n",
    "    name='Linear regression equation'\n",
    "))\n",
    "\n",
    "fig.update_layout(\n",
    "    title='U251 Tumor Growth',\n",
    "    title_x = 0.5,\n",
    "    xaxis_title='Days Afer Injection',\n",
    "    yaxis_title='Tumor Size (mm^3)',\n",
    "    yaxis_range=[0, 1000] # This set the y-axis range to 0 to 1000\n",
    ")\n",
    "fig.update_xaxes(\n",
    "    tickvals=[10, 12, 17, 20, 24, 28],\n",
    "    ticktext=[10, 12, 17, 20, 24, 28]\n",
    ")\n",
    "fig.show()\n",
    "\n",
    "print(f'Linear Regression Equation: Y = {average_intercept_2:.2f} + {average_coef_2:.2f}*X')\n",
    "print(f'MSE: {mse2:.2f}')\n",
    "print(f'R^2: {r2_2:.2f}')\n",
    "print(f'MRSE: {mrse2:.2f}')"
   ]
  },
  {
   "cell_type": "markdown",
   "metadata": {},
   "source": [
    "### Now, we calculate how many days it takes for tumors to reach 300 mm^3 if no outlier is removed from the data.\n"
   ]
  },
  {
   "cell_type": "code",
   "execution_count": 27,
   "metadata": {},
   "outputs": [
    {
     "name": "stdout",
     "output_type": "stream",
     "text": [
      "The value of a is: 34.48\n",
      "The value of b is: -362.63\n",
      "The tumors will reach 300 mm^3 in about: 19 days\n"
     ]
    }
   ],
   "source": [
    "# the equation line is y = a2x2 + b2\n",
    "# a2 is equal to the slope\n",
    "# b2 is equal to the y-intercept\n",
    "# y2 = 300 mm^3\n",
    "# So, to calculate the equation line:\n",
    "a2 = average_coef_2\n",
    "print(f'The value of a is: {a2:.2f}')\n",
    "\n",
    "b2 = average_intercept_2\n",
    "print(f'The value of b is: {b2:.2f}')\n",
    "\n",
    "y2 = 300\n",
    "\n",
    "# So, replacing this values to the line equation:\n",
    "x_grow2 = (300-b2)/a2\n",
    "print(f'The tumors will reach 300 mm^3 in about: {x_grow2:.0f}', 'days')"
   ]
  },
  {
   "cell_type": "code",
   "execution_count": 28,
   "metadata": {},
   "outputs": [
    {
     "data": {
      "image/png": "[encoded data removed]",
      "text/plain": [
       "<Figure size 1000x600 with 1 Axes>"
      ]
     },
     "metadata": {},
     "output_type": "display_data"
    },
    {
     "name": "stdout",
     "output_type": "stream",
     "text": [
      "Linear regression equation: y1_2 = -692.29 + 62.27*X\n",
      "Linear regression equation: y2_2 = -305.63 + 30.98*X\n",
      "Linear regression equation: y3_2 = -310.23 + 32.18*X\n",
      "Linear regression equation: y4_2 = -309.76 + 27.74*X\n",
      "Linear regression equation: y5_2 = -195.26 + 19.22*X\n"
     ]
    }
   ],
   "source": [
    "# Now, we need to create the X and y for the linear regression model. Since there are more than one tumor, each tumor will be assigned to a different y\n",
    "X2 = df_U251['days_after_injection']\n",
    "y1_2= np.array(df_U251['tumor_1'])\n",
    "y2_2= np.array(df_U251['tumor_2'])\n",
    "y3_2= np.array(df_U251['tumor_3'])\n",
    "y4_2= np.array(df_U251['tumor_4'])\n",
    "y5_2= np.array(df_U251['tumor_5'])\n",
    "\n",
    "model_y1_2 = LinearRegression() # create the linear regression model for tumor_1\n",
    "model_y1_2.fit(X2.values.reshape(-1, 1), y1_2) # fit the linear regression model for tumor_2\n",
    "\n",
    "model_y2_2 = LinearRegression() # create the linear regression model for tumor_2\n",
    "model_y2_2.fit(X2.values.reshape(-1, 1), y2_2) # fit the linear regression model for tumor_2\n",
    "\n",
    "model_y3_2 = LinearRegression() # create the linear regression model for tumor_3\n",
    "model_y3_2.fit(X2.values.reshape(-1, 1), y3_2) # fit the linear regression model for tumor_3\n",
    "\n",
    "model_y4_2 = LinearRegression() # create the linear regression model for tumor_4\n",
    "model_y4_2.fit(X2.values.reshape(-1, 1), y4_2) # fit the linear regression model for tumor_4\n",
    "\n",
    "model_y5_2 = LinearRegression() # create the linear regression model for tumor_5\n",
    "model_y5_2.fit(X2.values.reshape(-1, 1), y5_2) # fit the linear regression model for tumor_5\n",
    "\n",
    "predictions_y1_2 = model_y1_2.predict(X2.values.reshape(-1, 1)) # predict the y2 values\n",
    "predictions_y2_2 = model_y2_2.predict(X2.values.reshape(-1, 1)) # predict the y2 values\n",
    "predictions_y3_2 = model_y3_2.predict(X2.values.reshape(-1, 1)) # predict the y3 values\n",
    "predictions_y4_2 = model_y4_2.predict(X2.values.reshape(-1, 1)) # predict the y4 values\n",
    "predictions_y5_2 = model_y5_2.predict(X2.values.reshape(-1, 1)) # predict the y5 values\n",
    "\n",
    "# Finally, we plot the data points for each tumor, assigning a different color and marker\n",
    "plt.figure(figsize=(10, 6))\n",
    "plt.scatter(X2, y1_2, color='m', label='tumor_1', marker='x')\n",
    "plt.scatter(X2, y2_2, color='r', label='tumor_2', marker='o')\n",
    "plt.scatter(X2, y3_2, color='g', label='tumor_3', marker='s')\n",
    "plt.scatter(X2, y4_2, color='b', label='tumor_4', marker='v')\n",
    "plt.scatter(X2, y5_2, color='c', label='tumor_5', marker='*')\n",
    "\n",
    "# Here, we assign a different color and linestyle for each linear regression model derived from tumor_1 to tumor_5\n",
    "plt.plot(X2, predictions_y1_2, color='m', linestyle='dotted', label='Linear Regression for tumor_1') \n",
    "plt.plot(X2, predictions_y2_2, color='r', linestyle='-', label='Linear Regression for tumor_2')\n",
    "plt.plot(X2, predictions_y3_2, color='g', linestyle='--', label='Linear Regression for tumor_3')\n",
    "plt.plot(X2, predictions_y4_2, color='b', linestyle='-.', label='Linear Regression for tumor_4')\n",
    "plt.plot(X2, predictions_y5_2, color='c', linestyle=':', label='Linear Regression for tumor_5')\n",
    "\n",
    "plt.xlabel('Days After Injection')\n",
    "plt.ylabel('Tumor Size (mm^3)')\n",
    "plt.title('U251 Tumor Growth')\n",
    "plt.legend()\n",
    "plt.xticks([10, 12, 17, 20, 24, 28])\n",
    "plt.show()\n",
    "\n",
    "print(f'Linear regression equation: y1_2 = {model_y1_2.intercept_:.2f} + {model_y1_2.coef_[0]:.2f}*X') # print the linear regression equation\n",
    "print(f'Linear regression equation: y2_2 = {model_y2_2.intercept_:.2f} + {model_y2_2.coef_[0]:.2f}*X') # print the linear regression equation\n",
    "print(f'Linear regression equation: y3_2 = {model_y3_2.intercept_:.2f} + {model_y3_2.coef_[0]:.2f}*X') # print the linear regression equation\n",
    "print(f'Linear regression equation: y4_2 = {model_y4_2.intercept_:.2f} + {model_y4_2.coef_[0]:.2f}*X') # print the linear regression equation\n",
    "print(f'Linear regression equation: y5_2 = {model_y5_2.intercept_:.2f} + {model_y5_2.coef_[0]:.2f}*X') # print the linear regression equation"
   ]
  },
  {
   "cell_type": "code",
   "execution_count": 29,
   "metadata": {},
   "outputs": [
    {
     "name": "stdout",
     "output_type": "stream",
     "text": [
      "         Regression Model  Days to reach 300 mm^3  R squared          MSE  \\\n",
      "0        Removing tumor_1               20.555332   0.929180  2575.289588   \n",
      "1  Only removing outliers               20.146344   0.927347  2566.324646   \n",
      "2  Not excluding outliers               19.218053   0.941437  3893.600923   \n",
      "\n",
      "       MRSE  \n",
      "0  0.212582  \n",
      "1  0.201296  \n",
      "2  0.226705  \n"
     ]
    }
   ],
   "source": [
    "# Create a list with entries for the conclusion\n",
    "final_data = {'Regression Model': ['Removing tumor_1', 'Only removing outliers', 'Not excluding outliers'],\n",
    "              'Days to reach 300 mm^3': [x_grow, x_grow1, x_grow2],\n",
    "              'R squared': [r2, r2_1, r2_2],\n",
    "              'MSE': [mse, mse1, mse2],\n",
    "              'MRSE': [mrse, mrse1, mrse2]}\n",
    "\n",
    "# Create a DataFrame\n",
    "df_final_data = pd.DataFrame(final_data)\n",
    "\n",
    "# Print the output\n",
    "print(df_final_data)"
   ]
  },
  {
   "cell_type": "markdown",
   "metadata": {},
   "source": [
    "### Conclusions:\n",
    "All three linear regression models fit the points. By visual inspection, we observe a bigger range for the set where outliers weren't excluded. That is also confirmed by MSE analysis, which retrieved the highest number for this 'Not excluding outliers', besides R^2 performing well. Now, comparing the data by excluding tumor_1 and only excluding outliers from the dataset resulted in the same number of days to tumor reach 300 mm^3. Furthermore, both also had similar R^2 numbers. However, the MSE and MRSE analyses resulted in the lowest number, in both cases, for 'Only removing outliers'; In light of these findings, we recommend 'Only removing outliers' as the most effective approach for linear regression in this context."
   ]
  },
  {
   "cell_type": "markdown",
   "metadata": {},
   "source": [
    "#### Author: Cristian A. W. Villas Boas, Ph.D."
   ]
  }
 ],
 "metadata": {
  "kernelspec": {
   "display_name": "Python 3 (ipykernel)",
   "language": "python",
   "name": "python3"
  },
  "language_info": {
   "codemirror_mode": {
    "name": "ipython",
    "version": 3
   },
   "file_extension": ".py",
   "mimetype": "text/x-python",
   "name": "python",
   "nbconvert_exporter": "python",
   "pygments_lexer": "ipython3",
   "version": "3.11.0"
  }
 },
 "nbformat": 4,
 "nbformat_minor": 2
}
